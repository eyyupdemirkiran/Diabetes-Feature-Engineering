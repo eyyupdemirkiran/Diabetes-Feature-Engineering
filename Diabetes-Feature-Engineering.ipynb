{
 "cells": [
  {
   "cell_type": "code",
   "execution_count": 284,
   "id": "c65ec2b5-0414-43c0-8742-f42d3957ad85",
   "metadata": {},
   "outputs": [],
   "source": [
    "import numpy as np\n",
    "import pandas as pd\n",
    "import seaborn as sns\n",
    "from matplotlib import pyplot as plt\n",
    "import missingno as msno\n",
    "from datetime import date\n",
    "from sklearn.metrics import accuracy_score\n",
    "from sklearn.model_selection import train_test_split\n",
    "from sklearn.neighbors import LocalOutlierFactor\n",
    "from sklearn.preprocessing import MinMaxScaler, LabelEncoder, StandardScaler, RobustScaler"
   ]
  },
  {
   "cell_type": "code",
   "execution_count": 285,
   "id": "9b6e023f-cffa-42f7-b9d3-e7a8b1bc74f1",
   "metadata": {},
   "outputs": [],
   "source": [
    "pd.set_option(\"display.max_columns\", None)\n",
    "pd.set_option(\"display.max_rows\", None)\n",
    "pd.set_option(\"display.float_format\", lambda x: \"%.3f\" % x)\n",
    "pd.set_option(\"display.width\", 500)"
   ]
  },
  {
   "cell_type": "markdown",
   "id": "a6e306fa-73d8-4a99-ac82-78c0b61e88d4",
   "metadata": {},
   "source": [
    "## Görev 1 : Keşifçi Veri Analizi"
   ]
  },
  {
   "cell_type": "markdown",
   "id": "c50d00d1-27c9-420f-af5d-c34769cb1dd5",
   "metadata": {},
   "source": [
    "#### Adım 1: Genel resmi inceleyiniz."
   ]
  },
  {
   "cell_type": "code",
   "execution_count": 286,
   "id": "a2479e4e-4eff-44e2-95be-02da3c718a88",
   "metadata": {},
   "outputs": [],
   "source": [
    "def load_diabetes():\n",
    "    data = pd.read_csv(\"C:/Users/eyp_d/Desktop/VBO-Bootcamp-Dersler/6.Hafta/Ders Öncesi Notlar/datasets/diabetes.csv\")\n",
    "    return data"
   ]
  },
  {
   "cell_type": "code",
   "execution_count": 287,
   "id": "d1d169e2-026a-4f39-9380-d065f87614be",
   "metadata": {},
   "outputs": [
    {
     "data": {
      "text/html": [
       "<div>\n",
       "<style scoped>\n",
       "    .dataframe tbody tr th:only-of-type {\n",
       "        vertical-align: middle;\n",
       "    }\n",
       "\n",
       "    .dataframe tbody tr th {\n",
       "        vertical-align: top;\n",
       "    }\n",
       "\n",
       "    .dataframe thead th {\n",
       "        text-align: right;\n",
       "    }\n",
       "</style>\n",
       "<table border=\"1\" class=\"dataframe\">\n",
       "  <thead>\n",
       "    <tr style=\"text-align: right;\">\n",
       "      <th></th>\n",
       "      <th>Pregnancies</th>\n",
       "      <th>Glucose</th>\n",
       "      <th>BloodPressure</th>\n",
       "      <th>SkinThickness</th>\n",
       "      <th>Insulin</th>\n",
       "      <th>BMI</th>\n",
       "      <th>DiabetesPedigreeFunction</th>\n",
       "      <th>Age</th>\n",
       "      <th>Outcome</th>\n",
       "    </tr>\n",
       "  </thead>\n",
       "  <tbody>\n",
       "    <tr>\n",
       "      <th>0</th>\n",
       "      <td>6</td>\n",
       "      <td>148</td>\n",
       "      <td>72</td>\n",
       "      <td>35</td>\n",
       "      <td>0</td>\n",
       "      <td>33.600</td>\n",
       "      <td>0.627</td>\n",
       "      <td>50</td>\n",
       "      <td>1</td>\n",
       "    </tr>\n",
       "    <tr>\n",
       "      <th>1</th>\n",
       "      <td>1</td>\n",
       "      <td>85</td>\n",
       "      <td>66</td>\n",
       "      <td>29</td>\n",
       "      <td>0</td>\n",
       "      <td>26.600</td>\n",
       "      <td>0.351</td>\n",
       "      <td>31</td>\n",
       "      <td>0</td>\n",
       "    </tr>\n",
       "    <tr>\n",
       "      <th>2</th>\n",
       "      <td>8</td>\n",
       "      <td>183</td>\n",
       "      <td>64</td>\n",
       "      <td>0</td>\n",
       "      <td>0</td>\n",
       "      <td>23.300</td>\n",
       "      <td>0.672</td>\n",
       "      <td>32</td>\n",
       "      <td>1</td>\n",
       "    </tr>\n",
       "    <tr>\n",
       "      <th>3</th>\n",
       "      <td>1</td>\n",
       "      <td>89</td>\n",
       "      <td>66</td>\n",
       "      <td>23</td>\n",
       "      <td>94</td>\n",
       "      <td>28.100</td>\n",
       "      <td>0.167</td>\n",
       "      <td>21</td>\n",
       "      <td>0</td>\n",
       "    </tr>\n",
       "    <tr>\n",
       "      <th>4</th>\n",
       "      <td>0</td>\n",
       "      <td>137</td>\n",
       "      <td>40</td>\n",
       "      <td>35</td>\n",
       "      <td>168</td>\n",
       "      <td>43.100</td>\n",
       "      <td>2.288</td>\n",
       "      <td>33</td>\n",
       "      <td>1</td>\n",
       "    </tr>\n",
       "  </tbody>\n",
       "</table>\n",
       "</div>"
      ],
      "text/plain": [
       "   Pregnancies  Glucose  BloodPressure  SkinThickness  Insulin    BMI  DiabetesPedigreeFunction  Age  Outcome\n",
       "0            6      148             72             35        0 33.600                     0.627   50        1\n",
       "1            1       85             66             29        0 26.600                     0.351   31        0\n",
       "2            8      183             64              0        0 23.300                     0.672   32        1\n",
       "3            1       89             66             23       94 28.100                     0.167   21        0\n",
       "4            0      137             40             35      168 43.100                     2.288   33        1"
      ]
     },
     "execution_count": 287,
     "metadata": {},
     "output_type": "execute_result"
    }
   ],
   "source": [
    "df = load_diabetes()\n",
    "df.head()"
   ]
  },
  {
   "cell_type": "code",
   "execution_count": 288,
   "id": "66251e2e-04db-4a37-a8a6-c7067a5f1509",
   "metadata": {},
   "outputs": [
    {
     "data": {
      "text/plain": [
       "(768, 9)"
      ]
     },
     "execution_count": 288,
     "metadata": {},
     "output_type": "execute_result"
    }
   ],
   "source": [
    "df.shape"
   ]
  },
  {
   "cell_type": "code",
   "execution_count": 289,
   "id": "a743cbeb-119b-4f32-bec1-e9ab7d0d44f0",
   "metadata": {},
   "outputs": [
    {
     "data": {
      "text/html": [
       "<div>\n",
       "<style scoped>\n",
       "    .dataframe tbody tr th:only-of-type {\n",
       "        vertical-align: middle;\n",
       "    }\n",
       "\n",
       "    .dataframe tbody tr th {\n",
       "        vertical-align: top;\n",
       "    }\n",
       "\n",
       "    .dataframe thead th {\n",
       "        text-align: right;\n",
       "    }\n",
       "</style>\n",
       "<table border=\"1\" class=\"dataframe\">\n",
       "  <thead>\n",
       "    <tr style=\"text-align: right;\">\n",
       "      <th></th>\n",
       "      <th>count</th>\n",
       "      <th>mean</th>\n",
       "      <th>std</th>\n",
       "      <th>min</th>\n",
       "      <th>25%</th>\n",
       "      <th>50%</th>\n",
       "      <th>75%</th>\n",
       "      <th>max</th>\n",
       "    </tr>\n",
       "  </thead>\n",
       "  <tbody>\n",
       "    <tr>\n",
       "      <th>Pregnancies</th>\n",
       "      <td>768.000</td>\n",
       "      <td>3.845</td>\n",
       "      <td>3.370</td>\n",
       "      <td>0.000</td>\n",
       "      <td>1.000</td>\n",
       "      <td>3.000</td>\n",
       "      <td>6.000</td>\n",
       "      <td>17.000</td>\n",
       "    </tr>\n",
       "    <tr>\n",
       "      <th>Glucose</th>\n",
       "      <td>768.000</td>\n",
       "      <td>120.895</td>\n",
       "      <td>31.973</td>\n",
       "      <td>0.000</td>\n",
       "      <td>99.000</td>\n",
       "      <td>117.000</td>\n",
       "      <td>140.250</td>\n",
       "      <td>199.000</td>\n",
       "    </tr>\n",
       "    <tr>\n",
       "      <th>BloodPressure</th>\n",
       "      <td>768.000</td>\n",
       "      <td>69.105</td>\n",
       "      <td>19.356</td>\n",
       "      <td>0.000</td>\n",
       "      <td>62.000</td>\n",
       "      <td>72.000</td>\n",
       "      <td>80.000</td>\n",
       "      <td>122.000</td>\n",
       "    </tr>\n",
       "    <tr>\n",
       "      <th>SkinThickness</th>\n",
       "      <td>768.000</td>\n",
       "      <td>20.536</td>\n",
       "      <td>15.952</td>\n",
       "      <td>0.000</td>\n",
       "      <td>0.000</td>\n",
       "      <td>23.000</td>\n",
       "      <td>32.000</td>\n",
       "      <td>99.000</td>\n",
       "    </tr>\n",
       "    <tr>\n",
       "      <th>Insulin</th>\n",
       "      <td>768.000</td>\n",
       "      <td>79.799</td>\n",
       "      <td>115.244</td>\n",
       "      <td>0.000</td>\n",
       "      <td>0.000</td>\n",
       "      <td>30.500</td>\n",
       "      <td>127.250</td>\n",
       "      <td>846.000</td>\n",
       "    </tr>\n",
       "    <tr>\n",
       "      <th>BMI</th>\n",
       "      <td>768.000</td>\n",
       "      <td>31.993</td>\n",
       "      <td>7.884</td>\n",
       "      <td>0.000</td>\n",
       "      <td>27.300</td>\n",
       "      <td>32.000</td>\n",
       "      <td>36.600</td>\n",
       "      <td>67.100</td>\n",
       "    </tr>\n",
       "    <tr>\n",
       "      <th>DiabetesPedigreeFunction</th>\n",
       "      <td>768.000</td>\n",
       "      <td>0.472</td>\n",
       "      <td>0.331</td>\n",
       "      <td>0.078</td>\n",
       "      <td>0.244</td>\n",
       "      <td>0.372</td>\n",
       "      <td>0.626</td>\n",
       "      <td>2.420</td>\n",
       "    </tr>\n",
       "    <tr>\n",
       "      <th>Age</th>\n",
       "      <td>768.000</td>\n",
       "      <td>33.241</td>\n",
       "      <td>11.760</td>\n",
       "      <td>21.000</td>\n",
       "      <td>24.000</td>\n",
       "      <td>29.000</td>\n",
       "      <td>41.000</td>\n",
       "      <td>81.000</td>\n",
       "    </tr>\n",
       "    <tr>\n",
       "      <th>Outcome</th>\n",
       "      <td>768.000</td>\n",
       "      <td>0.349</td>\n",
       "      <td>0.477</td>\n",
       "      <td>0.000</td>\n",
       "      <td>0.000</td>\n",
       "      <td>0.000</td>\n",
       "      <td>1.000</td>\n",
       "      <td>1.000</td>\n",
       "    </tr>\n",
       "  </tbody>\n",
       "</table>\n",
       "</div>"
      ],
      "text/plain": [
       "                           count    mean     std    min    25%     50%     75%     max\n",
       "Pregnancies              768.000   3.845   3.370  0.000  1.000   3.000   6.000  17.000\n",
       "Glucose                  768.000 120.895  31.973  0.000 99.000 117.000 140.250 199.000\n",
       "BloodPressure            768.000  69.105  19.356  0.000 62.000  72.000  80.000 122.000\n",
       "SkinThickness            768.000  20.536  15.952  0.000  0.000  23.000  32.000  99.000\n",
       "Insulin                  768.000  79.799 115.244  0.000  0.000  30.500 127.250 846.000\n",
       "BMI                      768.000  31.993   7.884  0.000 27.300  32.000  36.600  67.100\n",
       "DiabetesPedigreeFunction 768.000   0.472   0.331  0.078  0.244   0.372   0.626   2.420\n",
       "Age                      768.000  33.241  11.760 21.000 24.000  29.000  41.000  81.000\n",
       "Outcome                  768.000   0.349   0.477  0.000  0.000   0.000   1.000   1.000"
      ]
     },
     "execution_count": 289,
     "metadata": {},
     "output_type": "execute_result"
    }
   ],
   "source": [
    "df.describe().T"
   ]
  },
  {
   "cell_type": "markdown",
   "id": "10898dd3-bea0-479f-93f4-d29a7c889561",
   "metadata": {},
   "source": [
    "##### Değişkenlerin maxiumum değerlerine karşılık gelen hastalar"
   ]
  },
  {
   "cell_type": "code",
   "execution_count": 290,
   "id": "c0336bda-92f8-45d5-9ed0-5dffc9f194d3",
   "metadata": {
    "tags": []
   },
   "outputs": [
    {
     "name": "stdout",
     "output_type": "stream",
     "text": [
      "\t\tMax_Pregnancies\n",
      "\t\t----------------------------\n",
      "\n",
      "     Pregnancies  Glucose  BloodPressure  SkinThickness  Insulin    BMI  DiabetesPedigreeFunction  Age  Outcome\n",
      "159           17      163             72             41      114 40.900                     0.817   47        1\n",
      "\n",
      "\n",
      "\t\tMax_Glucose\n",
      "\t\t----------------------------\n",
      "\n",
      "     Pregnancies  Glucose  BloodPressure  SkinThickness  Insulin    BMI  DiabetesPedigreeFunction  Age  Outcome\n",
      "661            1      199             76             43        0 42.900                     1.394   22        1\n",
      "\n",
      "\n",
      "\t\tMax_BloodPressure\n",
      "\t\t----------------------------\n",
      "\n",
      "     Pregnancies  Glucose  BloodPressure  SkinThickness  Insulin    BMI  DiabetesPedigreeFunction  Age  Outcome\n",
      "106            1       96            122              0        0 22.400                     0.207   27        0\n",
      "\n",
      "\n",
      "\t\tMax_SkinThickness\n",
      "\t\t----------------------------\n",
      "\n",
      "     Pregnancies  Glucose  BloodPressure  SkinThickness  Insulin    BMI  DiabetesPedigreeFunction  Age  Outcome\n",
      "579            2      197             70             99        0 34.700                     0.575   62        1\n",
      "\n",
      "\n",
      "\t\tMax_Insulin\n",
      "\t\t----------------------------\n",
      "\n",
      "    Pregnancies  Glucose  BloodPressure  SkinThickness  Insulin    BMI  DiabetesPedigreeFunction  Age  Outcome\n",
      "13            1      189             60             23      846 30.100                     0.398   59        1\n",
      "\n",
      "\n",
      "\t\tMax_BMI\n",
      "\t\t----------------------------\n",
      "\n",
      "     Pregnancies  Glucose  BloodPressure  SkinThickness  Insulin    BMI  DiabetesPedigreeFunction  Age  Outcome\n",
      "177            0      129            110             46      130 67.100                     0.319   26        1\n",
      "\n",
      "\n",
      "\t\tMax_DiabetesPedigreeFunction\n",
      "\t\t----------------------------\n",
      "\n",
      "     Pregnancies  Glucose  BloodPressure  SkinThickness  Insulin    BMI  DiabetesPedigreeFunction  Age  Outcome\n",
      "445            0      180             78             63       14 59.400                     2.420   25        1\n",
      "\n",
      "\n",
      "\t\tMax_Age\n",
      "\t\t----------------------------\n",
      "\n",
      "     Pregnancies  Glucose  BloodPressure  SkinThickness  Insulin    BMI  DiabetesPedigreeFunction  Age  Outcome\n",
      "459            9      134             74             33       60 25.900                     0.460   81        0\n",
      "\n",
      "\n"
     ]
    }
   ],
   "source": [
    "for col in df.columns:  \n",
    "    if col == \"Outcome\":\n",
    "        pass\n",
    "    else:\n",
    "        print(\"\\t\\tMax_\" + f\"{col}\")\n",
    "        print(\"\\t\\t----------------------------\\n\")\n",
    "        print(df[df[col] == df[col].max()])\n",
    "        print(\"\\n\")"
   ]
  },
  {
   "cell_type": "code",
   "execution_count": 291,
   "id": "ba740536-0a75-40db-b1e0-ae7a24fc9566",
   "metadata": {},
   "outputs": [
    {
     "data": {
      "text/html": [
       "<div>\n",
       "<style scoped>\n",
       "    .dataframe tbody tr th:only-of-type {\n",
       "        vertical-align: middle;\n",
       "    }\n",
       "\n",
       "    .dataframe tbody tr th {\n",
       "        vertical-align: top;\n",
       "    }\n",
       "\n",
       "    .dataframe thead th {\n",
       "        text-align: right;\n",
       "    }\n",
       "</style>\n",
       "<table border=\"1\" class=\"dataframe\">\n",
       "  <thead>\n",
       "    <tr style=\"text-align: right;\">\n",
       "      <th></th>\n",
       "      <th>PREGNANCIES</th>\n",
       "      <th>GLUCOSE</th>\n",
       "      <th>BLOODPRESSURE</th>\n",
       "      <th>SKINTHICKNESS</th>\n",
       "      <th>INSULIN</th>\n",
       "      <th>BMI</th>\n",
       "      <th>DIABETESPEDIGREEFUNCTION</th>\n",
       "      <th>AGE</th>\n",
       "      <th>OUTCOME</th>\n",
       "    </tr>\n",
       "  </thead>\n",
       "  <tbody>\n",
       "    <tr>\n",
       "      <th>0</th>\n",
       "      <td>6</td>\n",
       "      <td>148</td>\n",
       "      <td>72</td>\n",
       "      <td>35</td>\n",
       "      <td>0</td>\n",
       "      <td>33.600</td>\n",
       "      <td>0.627</td>\n",
       "      <td>50</td>\n",
       "      <td>1</td>\n",
       "    </tr>\n",
       "    <tr>\n",
       "      <th>1</th>\n",
       "      <td>1</td>\n",
       "      <td>85</td>\n",
       "      <td>66</td>\n",
       "      <td>29</td>\n",
       "      <td>0</td>\n",
       "      <td>26.600</td>\n",
       "      <td>0.351</td>\n",
       "      <td>31</td>\n",
       "      <td>0</td>\n",
       "    </tr>\n",
       "    <tr>\n",
       "      <th>2</th>\n",
       "      <td>8</td>\n",
       "      <td>183</td>\n",
       "      <td>64</td>\n",
       "      <td>0</td>\n",
       "      <td>0</td>\n",
       "      <td>23.300</td>\n",
       "      <td>0.672</td>\n",
       "      <td>32</td>\n",
       "      <td>1</td>\n",
       "    </tr>\n",
       "    <tr>\n",
       "      <th>3</th>\n",
       "      <td>1</td>\n",
       "      <td>89</td>\n",
       "      <td>66</td>\n",
       "      <td>23</td>\n",
       "      <td>94</td>\n",
       "      <td>28.100</td>\n",
       "      <td>0.167</td>\n",
       "      <td>21</td>\n",
       "      <td>0</td>\n",
       "    </tr>\n",
       "    <tr>\n",
       "      <th>4</th>\n",
       "      <td>0</td>\n",
       "      <td>137</td>\n",
       "      <td>40</td>\n",
       "      <td>35</td>\n",
       "      <td>168</td>\n",
       "      <td>43.100</td>\n",
       "      <td>2.288</td>\n",
       "      <td>33</td>\n",
       "      <td>1</td>\n",
       "    </tr>\n",
       "  </tbody>\n",
       "</table>\n",
       "</div>"
      ],
      "text/plain": [
       "   PREGNANCIES  GLUCOSE  BLOODPRESSURE  SKINTHICKNESS  INSULIN    BMI  DIABETESPEDIGREEFUNCTION  AGE  OUTCOME\n",
       "0            6      148             72             35        0 33.600                     0.627   50        1\n",
       "1            1       85             66             29        0 26.600                     0.351   31        0\n",
       "2            8      183             64              0        0 23.300                     0.672   32        1\n",
       "3            1       89             66             23       94 28.100                     0.167   21        0\n",
       "4            0      137             40             35      168 43.100                     2.288   33        1"
      ]
     },
     "execution_count": 291,
     "metadata": {},
     "output_type": "execute_result"
    }
   ],
   "source": [
    "df.columns = [col.upper() for col in df.columns]\n",
    "df.head()"
   ]
  },
  {
   "cell_type": "markdown",
   "id": "a42180cc-cf4f-4a58-9617-83ec70184c6c",
   "metadata": {},
   "source": [
    "#### Adım 2: Numerik ve kategorik değişkenleri yakalayınız."
   ]
  },
  {
   "cell_type": "code",
   "execution_count": 292,
   "id": "8493e38d-3b42-4010-b210-fad1ab9c5238",
   "metadata": {},
   "outputs": [],
   "source": [
    "def grab_col_names(dataframe, cat_th=10, car_th=20):\n",
    "\n",
    "    # cat_cols, cat_but_car\n",
    "    cat_cols = [col for col in dataframe.columns if dataframe[col].dtypes == \"O\"]\n",
    "    num_but_cat = [col for col in dataframe.columns if dataframe[col].nunique() < cat_th and\n",
    "                   dataframe[col].dtypes != \"O\"]\n",
    "    cat_but_car = [col for col in dataframe.columns if dataframe[col].nunique() > car_th and\n",
    "                   dataframe[col].dtypes == \"O\"]\n",
    "    cat_cols = cat_cols + num_but_cat\n",
    "    cat_cols = [col for col in cat_cols if col not in cat_but_car]\n",
    "\n",
    "    # num_cols\n",
    "    num_cols = [col for col in dataframe.columns if dataframe[col].dtypes != \"O\"]\n",
    "    num_cols = [col for col in num_cols if col not in num_but_cat]\n",
    "\n",
    "    print(f\"Observations: {dataframe.shape[0]}\")\n",
    "    print(f\"Variables: {dataframe.shape[1]}\")\n",
    "    print(f'cat_cols: {len(cat_cols)}')\n",
    "    print(f'num_cols: {len(num_cols)}')\n",
    "    print(f'cat_but_car: {len(cat_but_car)}')\n",
    "    print(f'num_but_cat: {len(num_but_cat)}')\n",
    "    \n",
    "    print(f\"\\ncat_cols: {cat_cols}\")\n",
    "    print(f\"num_cols: {num_cols}\")\n",
    "    print(f\"cat_but_car: {cat_but_car}\")\n",
    "    \n",
    "    return cat_cols, num_cols, cat_but_car"
   ]
  },
  {
   "cell_type": "code",
   "execution_count": 293,
   "id": "af65ea9d-2f7c-4f5e-b347-e693ea85ec0d",
   "metadata": {},
   "outputs": [
    {
     "name": "stdout",
     "output_type": "stream",
     "text": [
      "Observations: 768\n",
      "Variables: 9\n",
      "cat_cols: 1\n",
      "num_cols: 8\n",
      "cat_but_car: 0\n",
      "num_but_cat: 1\n",
      "\n",
      "cat_cols: ['OUTCOME']\n",
      "num_cols: ['PREGNANCIES', 'GLUCOSE', 'BLOODPRESSURE', 'SKINTHICKNESS', 'INSULIN', 'BMI', 'DIABETESPEDIGREEFUNCTION', 'AGE']\n",
      "cat_but_car: []\n"
     ]
    }
   ],
   "source": [
    "cat_cols, num_cols, cat_but_car = grab_col_names(df)"
   ]
  },
  {
   "cell_type": "markdown",
   "id": "93953754-1387-4e0d-8123-50b1cb40285d",
   "metadata": {},
   "source": [
    "#### Adım 3: Numerik ve kategorik değişkenlerin analizini yapınız."
   ]
  },
  {
   "cell_type": "code",
   "execution_count": 294,
   "id": "ffa893f4-c98c-4a08-b9a1-d36db4f175e5",
   "metadata": {},
   "outputs": [
    {
     "data": {
      "text/html": [
       "<div>\n",
       "<style scoped>\n",
       "    .dataframe tbody tr th:only-of-type {\n",
       "        vertical-align: middle;\n",
       "    }\n",
       "\n",
       "    .dataframe tbody tr th {\n",
       "        vertical-align: top;\n",
       "    }\n",
       "\n",
       "    .dataframe thead th {\n",
       "        text-align: right;\n",
       "    }\n",
       "</style>\n",
       "<table border=\"1\" class=\"dataframe\">\n",
       "  <thead>\n",
       "    <tr style=\"text-align: right;\">\n",
       "      <th></th>\n",
       "      <th>count</th>\n",
       "      <th>mean</th>\n",
       "      <th>std</th>\n",
       "      <th>min</th>\n",
       "      <th>25%</th>\n",
       "      <th>50%</th>\n",
       "      <th>75%</th>\n",
       "      <th>max</th>\n",
       "    </tr>\n",
       "  </thead>\n",
       "  <tbody>\n",
       "    <tr>\n",
       "      <th>PREGNANCIES</th>\n",
       "      <td>768.000</td>\n",
       "      <td>3.845</td>\n",
       "      <td>3.370</td>\n",
       "      <td>0.000</td>\n",
       "      <td>1.000</td>\n",
       "      <td>3.000</td>\n",
       "      <td>6.000</td>\n",
       "      <td>17.000</td>\n",
       "    </tr>\n",
       "    <tr>\n",
       "      <th>GLUCOSE</th>\n",
       "      <td>768.000</td>\n",
       "      <td>120.895</td>\n",
       "      <td>31.973</td>\n",
       "      <td>0.000</td>\n",
       "      <td>99.000</td>\n",
       "      <td>117.000</td>\n",
       "      <td>140.250</td>\n",
       "      <td>199.000</td>\n",
       "    </tr>\n",
       "    <tr>\n",
       "      <th>BLOODPRESSURE</th>\n",
       "      <td>768.000</td>\n",
       "      <td>69.105</td>\n",
       "      <td>19.356</td>\n",
       "      <td>0.000</td>\n",
       "      <td>62.000</td>\n",
       "      <td>72.000</td>\n",
       "      <td>80.000</td>\n",
       "      <td>122.000</td>\n",
       "    </tr>\n",
       "    <tr>\n",
       "      <th>SKINTHICKNESS</th>\n",
       "      <td>768.000</td>\n",
       "      <td>20.536</td>\n",
       "      <td>15.952</td>\n",
       "      <td>0.000</td>\n",
       "      <td>0.000</td>\n",
       "      <td>23.000</td>\n",
       "      <td>32.000</td>\n",
       "      <td>99.000</td>\n",
       "    </tr>\n",
       "    <tr>\n",
       "      <th>INSULIN</th>\n",
       "      <td>768.000</td>\n",
       "      <td>79.799</td>\n",
       "      <td>115.244</td>\n",
       "      <td>0.000</td>\n",
       "      <td>0.000</td>\n",
       "      <td>30.500</td>\n",
       "      <td>127.250</td>\n",
       "      <td>846.000</td>\n",
       "    </tr>\n",
       "    <tr>\n",
       "      <th>BMI</th>\n",
       "      <td>768.000</td>\n",
       "      <td>31.993</td>\n",
       "      <td>7.884</td>\n",
       "      <td>0.000</td>\n",
       "      <td>27.300</td>\n",
       "      <td>32.000</td>\n",
       "      <td>36.600</td>\n",
       "      <td>67.100</td>\n",
       "    </tr>\n",
       "    <tr>\n",
       "      <th>DIABETESPEDIGREEFUNCTION</th>\n",
       "      <td>768.000</td>\n",
       "      <td>0.472</td>\n",
       "      <td>0.331</td>\n",
       "      <td>0.078</td>\n",
       "      <td>0.244</td>\n",
       "      <td>0.372</td>\n",
       "      <td>0.626</td>\n",
       "      <td>2.420</td>\n",
       "    </tr>\n",
       "    <tr>\n",
       "      <th>AGE</th>\n",
       "      <td>768.000</td>\n",
       "      <td>33.241</td>\n",
       "      <td>11.760</td>\n",
       "      <td>21.000</td>\n",
       "      <td>24.000</td>\n",
       "      <td>29.000</td>\n",
       "      <td>41.000</td>\n",
       "      <td>81.000</td>\n",
       "    </tr>\n",
       "  </tbody>\n",
       "</table>\n",
       "</div>"
      ],
      "text/plain": [
       "                           count    mean     std    min    25%     50%     75%     max\n",
       "PREGNANCIES              768.000   3.845   3.370  0.000  1.000   3.000   6.000  17.000\n",
       "GLUCOSE                  768.000 120.895  31.973  0.000 99.000 117.000 140.250 199.000\n",
       "BLOODPRESSURE            768.000  69.105  19.356  0.000 62.000  72.000  80.000 122.000\n",
       "SKINTHICKNESS            768.000  20.536  15.952  0.000  0.000  23.000  32.000  99.000\n",
       "INSULIN                  768.000  79.799 115.244  0.000  0.000  30.500 127.250 846.000\n",
       "BMI                      768.000  31.993   7.884  0.000 27.300  32.000  36.600  67.100\n",
       "DIABETESPEDIGREEFUNCTION 768.000   0.472   0.331  0.078  0.244   0.372   0.626   2.420\n",
       "AGE                      768.000  33.241  11.760 21.000 24.000  29.000  41.000  81.000"
      ]
     },
     "execution_count": 294,
     "metadata": {},
     "output_type": "execute_result"
    }
   ],
   "source": [
    "df[num_cols].describe().T   # Tüm değişkenler doğru şekilde sınıflandırılmış."
   ]
  },
  {
   "cell_type": "code",
   "execution_count": 295,
   "id": "18758d18-96ab-4001-ba26-737c75f764a9",
   "metadata": {},
   "outputs": [
    {
     "data": {
      "text/html": [
       "<div>\n",
       "<style scoped>\n",
       "    .dataframe tbody tr th:only-of-type {\n",
       "        vertical-align: middle;\n",
       "    }\n",
       "\n",
       "    .dataframe tbody tr th {\n",
       "        vertical-align: top;\n",
       "    }\n",
       "\n",
       "    .dataframe thead th {\n",
       "        text-align: right;\n",
       "    }\n",
       "</style>\n",
       "<table border=\"1\" class=\"dataframe\">\n",
       "  <thead>\n",
       "    <tr style=\"text-align: right;\">\n",
       "      <th></th>\n",
       "      <th>count</th>\n",
       "      <th>mean</th>\n",
       "      <th>std</th>\n",
       "      <th>min</th>\n",
       "      <th>25%</th>\n",
       "      <th>50%</th>\n",
       "      <th>75%</th>\n",
       "      <th>max</th>\n",
       "    </tr>\n",
       "  </thead>\n",
       "  <tbody>\n",
       "    <tr>\n",
       "      <th>OUTCOME</th>\n",
       "      <td>768.000</td>\n",
       "      <td>0.349</td>\n",
       "      <td>0.477</td>\n",
       "      <td>0.000</td>\n",
       "      <td>0.000</td>\n",
       "      <td>0.000</td>\n",
       "      <td>1.000</td>\n",
       "      <td>1.000</td>\n",
       "    </tr>\n",
       "  </tbody>\n",
       "</table>\n",
       "</div>"
      ],
      "text/plain": [
       "          count  mean   std   min   25%   50%   75%   max\n",
       "OUTCOME 768.000 0.349 0.477 0.000 0.000 0.000 1.000 1.000"
      ]
     },
     "execution_count": 295,
     "metadata": {},
     "output_type": "execute_result"
    }
   ],
   "source": [
    "df[cat_cols].describe().T"
   ]
  },
  {
   "cell_type": "markdown",
   "id": "8818aebd-c29b-493b-ad3a-61b6c395b5f0",
   "metadata": {},
   "source": [
    "#### Adım 4: Hedef değişken analizi yapınız. (Kategorik değişkenlere göre hedef değişkenin ortalaması, hedef değişkene göre numerik değişkenlerin ortalaması)"
   ]
  },
  {
   "cell_type": "code",
   "execution_count": 296,
   "id": "a9b6bc5b-e01b-4138-9d82-bbf7cba8b730",
   "metadata": {},
   "outputs": [
    {
     "data": {
      "text/html": [
       "<div>\n",
       "<style scoped>\n",
       "    .dataframe tbody tr th:only-of-type {\n",
       "        vertical-align: middle;\n",
       "    }\n",
       "\n",
       "    .dataframe tbody tr th {\n",
       "        vertical-align: top;\n",
       "    }\n",
       "\n",
       "    .dataframe thead th {\n",
       "        text-align: right;\n",
       "    }\n",
       "</style>\n",
       "<table border=\"1\" class=\"dataframe\">\n",
       "  <thead>\n",
       "    <tr style=\"text-align: right;\">\n",
       "      <th></th>\n",
       "      <th>OUTCOME</th>\n",
       "    </tr>\n",
       "    <tr>\n",
       "      <th>OUTCOME</th>\n",
       "      <th></th>\n",
       "    </tr>\n",
       "  </thead>\n",
       "  <tbody>\n",
       "    <tr>\n",
       "      <th>0</th>\n",
       "      <td>0</td>\n",
       "    </tr>\n",
       "    <tr>\n",
       "      <th>1</th>\n",
       "      <td>1</td>\n",
       "    </tr>\n",
       "  </tbody>\n",
       "</table>\n",
       "</div>"
      ],
      "text/plain": [
       "         OUTCOME\n",
       "OUTCOME         \n",
       "0              0\n",
       "1              1"
      ]
     },
     "execution_count": 296,
     "metadata": {},
     "output_type": "execute_result"
    }
   ],
   "source": [
    "df.groupby(cat_cols).agg({\"OUTCOME\": \"mean\"})"
   ]
  },
  {
   "cell_type": "code",
   "execution_count": 297,
   "id": "3d3e2d41-d0ce-41df-9e72-a989415f0476",
   "metadata": {
    "tags": []
   },
   "outputs": [
    {
     "name": "stdout",
     "output_type": "stream",
     "text": [
      "         PREGNANCIES\n",
      "OUTCOME             \n",
      "0              3.298\n",
      "1              4.866 \n",
      "\n",
      "         GLUCOSE\n",
      "OUTCOME         \n",
      "0        109.980\n",
      "1        141.257 \n",
      "\n",
      "         BLOODPRESSURE\n",
      "OUTCOME               \n",
      "0               68.184\n",
      "1               70.825 \n",
      "\n",
      "         SKINTHICKNESS\n",
      "OUTCOME               \n",
      "0               19.664\n",
      "1               22.164 \n",
      "\n",
      "         INSULIN\n",
      "OUTCOME         \n",
      "0         68.792\n",
      "1        100.336 \n",
      "\n",
      "           BMI\n",
      "OUTCOME       \n",
      "0       30.304\n",
      "1       35.143 \n",
      "\n",
      "         DIABETESPEDIGREEFUNCTION\n",
      "OUTCOME                          \n",
      "0                           0.430\n",
      "1                           0.550 \n",
      "\n",
      "           AGE\n",
      "OUTCOME       \n",
      "0       31.190\n",
      "1       37.067 \n",
      "\n"
     ]
    }
   ],
   "source": [
    "for col in num_cols: \n",
    "    print(df.groupby(\"OUTCOME\").agg({col : \"mean\"}), \"\\n\")"
   ]
  },
  {
   "cell_type": "markdown",
   "id": "ffebaa60-4029-443d-89cb-22f2215117f5",
   "metadata": {},
   "source": [
    "#### Adım 5: Aykırı gözlem analizi yapınız."
   ]
  },
  {
   "cell_type": "code",
   "execution_count": 298,
   "id": "d376f14c-36a5-4342-b095-8ea5ceaae0b5",
   "metadata": {},
   "outputs": [
    {
     "data": {
      "image/png": "[encoded data removed]",
      "text/plain": [
       "<Figure size 1296x720 with 8 Axes>"
      ]
     },
     "metadata": {
      "needs_background": "light"
     },
     "output_type": "display_data"
    }
   ],
   "source": [
    "fig, axes = plt.subplots(2, 4, figsize=(18, 10))\n",
    "fig.suptitle('Numerik Değişkenlerin Boxplot ile Ayrkırı Gözlem Analizi')\n",
    "\n",
    "for i,col in enumerate(num_cols):\n",
    "    if i < 4:\n",
    "        sns.boxplot(x=df[col], ax=axes[0, i])\n",
    "    else:\n",
    "        sns.boxplot(x=df[col], ax=axes[1, (i-4)])\n",
    "plt.show() "
   ]
  },
  {
   "cell_type": "markdown",
   "id": "a7794e72-70dc-4e6e-95c7-42095f5a4597",
   "metadata": {},
   "source": [
    "Missing value'lar için veriye eklenen sıfır değerleri veri setinin outliers değişkenleri üzerinde etkisi olmuş gözüküyor. "
   ]
  },
  {
   "cell_type": "markdown",
   "id": "43dd9972-a7b6-400d-a650-622a58d2d3cc",
   "metadata": {},
   "source": [
    "##### Veri seti değişkenleri özelinde aykırı değer var mı?"
   ]
  },
  {
   "cell_type": "code",
   "execution_count": 299,
   "id": "7c7a0f63-97d6-4cf1-b26d-26cc376018dc",
   "metadata": {},
   "outputs": [],
   "source": [
    "def outlier_thresholds(dataframe, col_name, q1=0.25, q3=0.75):\n",
    "    quartile1 = dataframe[col_name].quantile(q1)\n",
    "    quartile3 = dataframe[col_name].quantile(q3)\n",
    "    interquantile_range = quartile3 - quartile1\n",
    "    up_limit = quartile3 + 1.5 * interquantile_range\n",
    "    low_limit = quartile1 - 1.5 * interquantile_range\n",
    "    return low_limit, up_limit"
   ]
  },
  {
   "cell_type": "code",
   "execution_count": 300,
   "id": "81e97f50-fae1-40a1-b48d-50522101d206",
   "metadata": {},
   "outputs": [],
   "source": [
    "low, up = outlier_thresholds(df, \"AGE\")"
   ]
  },
  {
   "cell_type": "code",
   "execution_count": 301,
   "id": "32259d40-1e51-4c0c-b10c-da43cc75020d",
   "metadata": {},
   "outputs": [],
   "source": [
    "def check_outlier(dataframe, col_name):\n",
    "    low_limit, up_limit = outlier_thresholds(dataframe, col_name)\n",
    "    if dataframe[(dataframe[col_name] > up_limit) | (dataframe[col_name] < low_limit)].any(axis=None):\n",
    "        return True\n",
    "    else:\n",
    "        return False"
   ]
  },
  {
   "cell_type": "code",
   "execution_count": 302,
   "id": "b3dbbb89-8930-460a-a9a8-eff8b4830e0f",
   "metadata": {},
   "outputs": [
    {
     "data": {
      "text/plain": [
       "True"
      ]
     },
     "execution_count": 302,
     "metadata": {},
     "output_type": "execute_result"
    }
   ],
   "source": [
    "check_outlier(df, \"AGE\")"
   ]
  },
  {
   "cell_type": "code",
   "execution_count": 303,
   "id": "4793b3c0-40c4-4160-9ed9-a06799a1d52e",
   "metadata": {},
   "outputs": [
    {
     "name": "stdout",
     "output_type": "stream",
     "text": [
      "PREGNANCIES True\n",
      "GLUCOSE True\n",
      "BLOODPRESSURE True\n",
      "SKINTHICKNESS True\n",
      "INSULIN True\n",
      "BMI True\n",
      "DIABETESPEDIGREEFUNCTION True\n",
      "AGE True\n"
     ]
    }
   ],
   "source": [
    "for col in num_cols:     # Aykırı değerler bulunan değişkenler.\n",
    "    print(col, check_outlier(df, col))"
   ]
  },
  {
   "cell_type": "markdown",
   "id": "5d9a7a45-4372-4a91-8234-149547ed28e5",
   "metadata": {},
   "source": [
    "##### Aykırı değerleri olan değişkenlerin değerlerine ulaşmak"
   ]
  },
  {
   "cell_type": "code",
   "execution_count": 304,
   "id": "50f7d91e-dd5f-453a-a733-07572cbb218e",
   "metadata": {
    "tags": []
   },
   "outputs": [],
   "source": [
    "def find_all_outliers(dataframe, num_cols, head=3):\n",
    "    for col in num_cols:\n",
    "        if check_outlier(dataframe, col):\n",
    "            low, up = outlier_thresholds(dataframe, col)\n",
    "            print(\"\\t\\t\\t\" + f\"{col}\" + \" Outliers\")\n",
    "            print(\"\\t\\t\\t---------------------------------\")\n",
    "            print(dataframe[(dataframe[col] < low) | (dataframe[col] > up)].sort_values(col, ascending=False).head(head),\"\\n\\n\")"
   ]
  },
  {
   "cell_type": "code",
   "execution_count": 305,
   "id": "eb2a03ab-cfe1-42b2-a5ac-4b152aa68578",
   "metadata": {
    "tags": []
   },
   "outputs": [
    {
     "name": "stdout",
     "output_type": "stream",
     "text": [
      "\t\t\tPREGNANCIES Outliers\n",
      "\t\t\t---------------------------------\n",
      "     PREGNANCIES  GLUCOSE  BLOODPRESSURE  SKINTHICKNESS  INSULIN    BMI  DIABETESPEDIGREEFUNCTION  AGE  OUTCOME\n",
      "159           17      163             72             41      114 40.900                     0.817   47        1\n",
      "88            15      136             70             32      110 37.100                     0.153   43        1\n",
      "298           14      100             78             25      184 36.600                     0.412   46        1 \n",
      "\n",
      "\n",
      "\t\t\tGLUCOSE Outliers\n",
      "\t\t\t---------------------------------\n",
      "     PREGNANCIES  GLUCOSE  BLOODPRESSURE  SKINTHICKNESS  INSULIN    BMI  DIABETESPEDIGREEFUNCTION  AGE  OUTCOME\n",
      "75             1        0             48             20        0 24.700                     0.140   22        0\n",
      "182            1        0             74             20       23 27.700                     0.299   21        0\n",
      "342            1        0             68             35        0 32.000                     0.389   22        0 \n",
      "\n",
      "\n",
      "\t\t\tBLOODPRESSURE Outliers\n",
      "\t\t\t---------------------------------\n",
      "     PREGNANCIES  GLUCOSE  BLOODPRESSURE  SKINTHICKNESS  INSULIN    BMI  DIABETESPEDIGREEFUNCTION  AGE  OUTCOME\n",
      "106            1       96            122              0        0 22.400                     0.207   27        0\n",
      "691           13      158            114              0        0 42.300                     0.257   44        1\n",
      "177            0      129            110             46      130 67.100                     0.319   26        1 \n",
      "\n",
      "\n",
      "\t\t\tSKINTHICKNESS Outliers\n",
      "\t\t\t---------------------------------\n",
      "     PREGNANCIES  GLUCOSE  BLOODPRESSURE  SKINTHICKNESS  INSULIN    BMI  DIABETESPEDIGREEFUNCTION  AGE  OUTCOME\n",
      "579            2      197             70             99        0 34.700                     0.575   62        1 \n",
      "\n",
      "\n",
      "\t\t\tINSULIN Outliers\n",
      "\t\t\t---------------------------------\n",
      "     PREGNANCIES  GLUCOSE  BLOODPRESSURE  SKINTHICKNESS  INSULIN    BMI  DIABETESPEDIGREEFUNCTION  AGE  OUTCOME\n",
      "13             1      189             60             23      846 30.100                     0.398   59        1\n",
      "228            4      197             70             39      744 36.700                     2.329   31        0\n",
      "247            0      165             90             33      680 52.300                     0.427   23        0 \n",
      "\n",
      "\n",
      "\t\t\tBMI Outliers\n",
      "\t\t\t---------------------------------\n",
      "     PREGNANCIES  GLUCOSE  BLOODPRESSURE  SKINTHICKNESS  INSULIN    BMI  DIABETESPEDIGREEFUNCTION  AGE  OUTCOME\n",
      "177            0      129            110             46      130 67.100                     0.319   26        1\n",
      "445            0      180             78             63       14 59.400                     2.420   25        1\n",
      "673            3      123            100             35      240 57.300                     0.880   22        0 \n",
      "\n",
      "\n",
      "\t\t\tDIABETESPEDIGREEFUNCTION Outliers\n",
      "\t\t\t---------------------------------\n",
      "     PREGNANCIES  GLUCOSE  BLOODPRESSURE  SKINTHICKNESS  INSULIN    BMI  DIABETESPEDIGREEFUNCTION  AGE  OUTCOME\n",
      "445            0      180             78             63       14 59.400                     2.420   25        1\n",
      "228            4      197             70             39      744 36.700                     2.329   31        0\n",
      "4              0      137             40             35      168 43.100                     2.288   33        1 \n",
      "\n",
      "\n",
      "\t\t\tAGE Outliers\n",
      "\t\t\t---------------------------------\n",
      "     PREGNANCIES  GLUCOSE  BLOODPRESSURE  SKINTHICKNESS  INSULIN    BMI  DIABETESPEDIGREEFUNCTION  AGE  OUTCOME\n",
      "459            9      134             74             33       60 25.900                     0.460   81        0\n",
      "453            2      119              0              0        0 19.600                     0.832   72        0\n",
      "666            4      145             82             18        0 32.500                     0.235   70        1 \n",
      "\n",
      "\n"
     ]
    }
   ],
   "source": [
    "find_all_outliers(df, num_cols, 3)"
   ]
  },
  {
   "cell_type": "markdown",
   "id": "fbfebb20-2302-418f-a243-e29d1248f353",
   "metadata": {},
   "source": [
    "#### Adım 6: Eksik gözlem analizi yapınız."
   ]
  },
  {
   "cell_type": "code",
   "execution_count": 306,
   "id": "f3da4b4e-a9e4-4b6c-bf43-bbe5fb08a26e",
   "metadata": {},
   "outputs": [
    {
     "data": {
      "text/plain": [
       "False"
      ]
     },
     "execution_count": 306,
     "metadata": {},
     "output_type": "execute_result"
    }
   ],
   "source": [
    "df.isnull().values.any()  # Veri seti üzerindeki eksik veriler 0 olarak doldurulduğundan, NaN olarak görülmemektedir."
   ]
  },
  {
   "cell_type": "code",
   "execution_count": 307,
   "id": "8779d257-8711-40f7-8e12-e511e5d7ff1c",
   "metadata": {},
   "outputs": [
    {
     "data": {
      "text/plain": [
       "PREGNANCIES                 768\n",
       "GLUCOSE                     768\n",
       "BLOODPRESSURE               768\n",
       "SKINTHICKNESS               768\n",
       "INSULIN                     768\n",
       "BMI                         768\n",
       "DIABETESPEDIGREEFUNCTION    768\n",
       "AGE                         768\n",
       "OUTCOME                     768\n",
       "dtype: int64"
      ]
     },
     "execution_count": 307,
     "metadata": {},
     "output_type": "execute_result"
    }
   ],
   "source": [
    "df.notnull().sum() # Veri seti üzerinde eksik veri NaN olarak gösterilmediğinden, Görev-2'de eksik veri analizi yapılmıştır. "
   ]
  },
  {
   "cell_type": "markdown",
   "id": "9f3380a3-27dc-41dc-9a09-80c8dbf2b199",
   "metadata": {},
   "source": [
    "#### Adım 7: Korelasyon analizi yapınız."
   ]
  },
  {
   "cell_type": "code",
   "execution_count": 308,
   "id": "b4af3bd7-801a-4f09-a68c-21b8d13d6129",
   "metadata": {
    "tags": []
   },
   "outputs": [],
   "source": [
    "df_corr = df.corr(method ='pearson')  # Korelasyon tablosundan, ilgili değişkenlerin birbirleri arasındaki ilişki gücü görülebilir."
   ]
  },
  {
   "cell_type": "code",
   "execution_count": 309,
   "id": "daae661c-edc0-4127-8b6a-1d323df8ddb4",
   "metadata": {},
   "outputs": [
    {
     "data": {
      "text/html": [
       "<div>\n",
       "<style scoped>\n",
       "    .dataframe tbody tr th:only-of-type {\n",
       "        vertical-align: middle;\n",
       "    }\n",
       "\n",
       "    .dataframe tbody tr th {\n",
       "        vertical-align: top;\n",
       "    }\n",
       "\n",
       "    .dataframe thead th {\n",
       "        text-align: right;\n",
       "    }\n",
       "</style>\n",
       "<table border=\"1\" class=\"dataframe\">\n",
       "  <thead>\n",
       "    <tr style=\"text-align: right;\">\n",
       "      <th></th>\n",
       "      <th>PREGNANCIES</th>\n",
       "      <th>GLUCOSE</th>\n",
       "      <th>BLOODPRESSURE</th>\n",
       "      <th>SKINTHICKNESS</th>\n",
       "      <th>INSULIN</th>\n",
       "      <th>BMI</th>\n",
       "      <th>DIABETESPEDIGREEFUNCTION</th>\n",
       "      <th>AGE</th>\n",
       "      <th>OUTCOME</th>\n",
       "    </tr>\n",
       "  </thead>\n",
       "  <tbody>\n",
       "    <tr>\n",
       "      <th>OUTCOME</th>\n",
       "      <td>0.222</td>\n",
       "      <td>0.467</td>\n",
       "      <td>0.065</td>\n",
       "      <td>0.075</td>\n",
       "      <td>0.131</td>\n",
       "      <td>0.293</td>\n",
       "      <td>0.174</td>\n",
       "      <td>0.238</td>\n",
       "      <td>1.000</td>\n",
       "    </tr>\n",
       "    <tr>\n",
       "      <th>GLUCOSE</th>\n",
       "      <td>0.129</td>\n",
       "      <td>1.000</td>\n",
       "      <td>0.153</td>\n",
       "      <td>0.057</td>\n",
       "      <td>0.331</td>\n",
       "      <td>0.221</td>\n",
       "      <td>0.137</td>\n",
       "      <td>0.264</td>\n",
       "      <td>0.467</td>\n",
       "    </tr>\n",
       "    <tr>\n",
       "      <th>BMI</th>\n",
       "      <td>0.018</td>\n",
       "      <td>0.221</td>\n",
       "      <td>0.282</td>\n",
       "      <td>0.393</td>\n",
       "      <td>0.198</td>\n",
       "      <td>1.000</td>\n",
       "      <td>0.141</td>\n",
       "      <td>0.036</td>\n",
       "      <td>0.293</td>\n",
       "    </tr>\n",
       "    <tr>\n",
       "      <th>AGE</th>\n",
       "      <td>0.544</td>\n",
       "      <td>0.264</td>\n",
       "      <td>0.240</td>\n",
       "      <td>-0.114</td>\n",
       "      <td>-0.042</td>\n",
       "      <td>0.036</td>\n",
       "      <td>0.034</td>\n",
       "      <td>1.000</td>\n",
       "      <td>0.238</td>\n",
       "    </tr>\n",
       "    <tr>\n",
       "      <th>PREGNANCIES</th>\n",
       "      <td>1.000</td>\n",
       "      <td>0.129</td>\n",
       "      <td>0.141</td>\n",
       "      <td>-0.082</td>\n",
       "      <td>-0.074</td>\n",
       "      <td>0.018</td>\n",
       "      <td>-0.034</td>\n",
       "      <td>0.544</td>\n",
       "      <td>0.222</td>\n",
       "    </tr>\n",
       "    <tr>\n",
       "      <th>DIABETESPEDIGREEFUNCTION</th>\n",
       "      <td>-0.034</td>\n",
       "      <td>0.137</td>\n",
       "      <td>0.041</td>\n",
       "      <td>0.184</td>\n",
       "      <td>0.185</td>\n",
       "      <td>0.141</td>\n",
       "      <td>1.000</td>\n",
       "      <td>0.034</td>\n",
       "      <td>0.174</td>\n",
       "    </tr>\n",
       "    <tr>\n",
       "      <th>INSULIN</th>\n",
       "      <td>-0.074</td>\n",
       "      <td>0.331</td>\n",
       "      <td>0.089</td>\n",
       "      <td>0.437</td>\n",
       "      <td>1.000</td>\n",
       "      <td>0.198</td>\n",
       "      <td>0.185</td>\n",
       "      <td>-0.042</td>\n",
       "      <td>0.131</td>\n",
       "    </tr>\n",
       "    <tr>\n",
       "      <th>SKINTHICKNESS</th>\n",
       "      <td>-0.082</td>\n",
       "      <td>0.057</td>\n",
       "      <td>0.207</td>\n",
       "      <td>1.000</td>\n",
       "      <td>0.437</td>\n",
       "      <td>0.393</td>\n",
       "      <td>0.184</td>\n",
       "      <td>-0.114</td>\n",
       "      <td>0.075</td>\n",
       "    </tr>\n",
       "    <tr>\n",
       "      <th>BLOODPRESSURE</th>\n",
       "      <td>0.141</td>\n",
       "      <td>0.153</td>\n",
       "      <td>1.000</td>\n",
       "      <td>0.207</td>\n",
       "      <td>0.089</td>\n",
       "      <td>0.282</td>\n",
       "      <td>0.041</td>\n",
       "      <td>0.240</td>\n",
       "      <td>0.065</td>\n",
       "    </tr>\n",
       "  </tbody>\n",
       "</table>\n",
       "</div>"
      ],
      "text/plain": [
       "                          PREGNANCIES  GLUCOSE  BLOODPRESSURE  SKINTHICKNESS  INSULIN   BMI  DIABETESPEDIGREEFUNCTION    AGE  OUTCOME\n",
       "OUTCOME                         0.222    0.467          0.065          0.075    0.131 0.293                     0.174  0.238    1.000\n",
       "GLUCOSE                         0.129    1.000          0.153          0.057    0.331 0.221                     0.137  0.264    0.467\n",
       "BMI                             0.018    0.221          0.282          0.393    0.198 1.000                     0.141  0.036    0.293\n",
       "AGE                             0.544    0.264          0.240         -0.114   -0.042 0.036                     0.034  1.000    0.238\n",
       "PREGNANCIES                     1.000    0.129          0.141         -0.082   -0.074 0.018                    -0.034  0.544    0.222\n",
       "DIABETESPEDIGREEFUNCTION       -0.034    0.137          0.041          0.184    0.185 0.141                     1.000  0.034    0.174\n",
       "INSULIN                        -0.074    0.331          0.089          0.437    1.000 0.198                     0.185 -0.042    0.131\n",
       "SKINTHICKNESS                  -0.082    0.057          0.207          1.000    0.437 0.393                     0.184 -0.114    0.075\n",
       "BLOODPRESSURE                   0.141    0.153          1.000          0.207    0.089 0.282                     0.041  0.240    0.065"
      ]
     },
     "execution_count": 309,
     "metadata": {},
     "output_type": "execute_result"
    }
   ],
   "source": [
    "df_corr.sort_values(\"OUTCOME\", ascending=False)  # Hedef değişkene(Outcome) göre "
   ]
  },
  {
   "cell_type": "markdown",
   "id": "f4259223-b341-45ad-b8b6-24dcd4807b4b",
   "metadata": {},
   "source": [
    "## Görev 2 : Feature Engineering"
   ]
  },
  {
   "cell_type": "markdown",
   "id": "b4bc4e45-477b-43e5-8f0d-ecf0290b0751",
   "metadata": {},
   "source": [
    "Buraya kadarki kısım, Veri setine ilk bakışla ilgiliydi. EDA olarak da tanımlanan buraya kadarki kısımda veri üzerinde herhangi bir değişiklik yapılmadı. \n",
    "\n",
    "Görev-2 ile birlikte veri seti, geliştirilecek model için sayısallaştırılacaktır. "
   ]
  },
  {
   "cell_type": "markdown",
   "id": "1e6046e8-9c4c-47f4-8644-709ab72a56c9",
   "metadata": {},
   "source": [
    "#### Adım 1: Eksik ve aykırı değerler için gerekli işlemleri yapınız."
   ]
  },
  {
   "cell_type": "markdown",
   "id": "5d8c3860-4014-4abe-a486-5a653b2944aa",
   "metadata": {},
   "source": [
    "Veri setinde eksik gözlem bulunmamakta ama Glikoz, Insulin vb.\n",
    "değişkenlerde 0 değeri içeren gözlem birimleri eksik değeri ifade ediyor olabilir. Örneğin; bir kişinin glikoz veya insulin değeri 0\n",
    "olamayacaktır. Bu durumu dikkate alarak sıfır değerlerini ilgili değerlerde NaN olarak atama yapıp sonrasında eksik\n",
    "değerlere işlemleri uygulayabilirsiniz."
   ]
  },
  {
   "cell_type": "code",
   "execution_count": 310,
   "id": "93bbde94-d6d0-4234-bdb3-83805b109fe9",
   "metadata": {
    "tags": []
   },
   "outputs": [
    {
     "data": {
      "text/plain": [
       "False"
      ]
     },
     "execution_count": 310,
     "metadata": {},
     "output_type": "execute_result"
    }
   ],
   "source": [
    "df.isnull().values.any()  # NaN değişken var mı?"
   ]
  },
  {
   "cell_type": "code",
   "execution_count": 311,
   "id": "26ba2d2c-2717-4d65-b73f-6e4187e1d1db",
   "metadata": {},
   "outputs": [
    {
     "data": {
      "text/html": [
       "<div>\n",
       "<style scoped>\n",
       "    .dataframe tbody tr th:only-of-type {\n",
       "        vertical-align: middle;\n",
       "    }\n",
       "\n",
       "    .dataframe tbody tr th {\n",
       "        vertical-align: top;\n",
       "    }\n",
       "\n",
       "    .dataframe thead th {\n",
       "        text-align: right;\n",
       "    }\n",
       "</style>\n",
       "<table border=\"1\" class=\"dataframe\">\n",
       "  <thead>\n",
       "    <tr style=\"text-align: right;\">\n",
       "      <th></th>\n",
       "      <th>PREGNANCIES</th>\n",
       "      <th>GLUCOSE</th>\n",
       "      <th>BLOODPRESSURE</th>\n",
       "      <th>SKINTHICKNESS</th>\n",
       "      <th>INSULIN</th>\n",
       "      <th>BMI</th>\n",
       "      <th>DIABETESPEDIGREEFUNCTION</th>\n",
       "      <th>AGE</th>\n",
       "      <th>OUTCOME</th>\n",
       "    </tr>\n",
       "  </thead>\n",
       "  <tbody>\n",
       "    <tr>\n",
       "      <th>0</th>\n",
       "      <td>6</td>\n",
       "      <td>148</td>\n",
       "      <td>72</td>\n",
       "      <td>35</td>\n",
       "      <td>0</td>\n",
       "      <td>33.600</td>\n",
       "      <td>0.627</td>\n",
       "      <td>50</td>\n",
       "      <td>1</td>\n",
       "    </tr>\n",
       "    <tr>\n",
       "      <th>1</th>\n",
       "      <td>1</td>\n",
       "      <td>85</td>\n",
       "      <td>66</td>\n",
       "      <td>29</td>\n",
       "      <td>0</td>\n",
       "      <td>26.600</td>\n",
       "      <td>0.351</td>\n",
       "      <td>31</td>\n",
       "      <td>0</td>\n",
       "    </tr>\n",
       "    <tr>\n",
       "      <th>2</th>\n",
       "      <td>8</td>\n",
       "      <td>183</td>\n",
       "      <td>64</td>\n",
       "      <td>0</td>\n",
       "      <td>0</td>\n",
       "      <td>23.300</td>\n",
       "      <td>0.672</td>\n",
       "      <td>32</td>\n",
       "      <td>1</td>\n",
       "    </tr>\n",
       "    <tr>\n",
       "      <th>3</th>\n",
       "      <td>1</td>\n",
       "      <td>89</td>\n",
       "      <td>66</td>\n",
       "      <td>23</td>\n",
       "      <td>94</td>\n",
       "      <td>28.100</td>\n",
       "      <td>0.167</td>\n",
       "      <td>21</td>\n",
       "      <td>0</td>\n",
       "    </tr>\n",
       "    <tr>\n",
       "      <th>4</th>\n",
       "      <td>0</td>\n",
       "      <td>137</td>\n",
       "      <td>40</td>\n",
       "      <td>35</td>\n",
       "      <td>168</td>\n",
       "      <td>43.100</td>\n",
       "      <td>2.288</td>\n",
       "      <td>33</td>\n",
       "      <td>1</td>\n",
       "    </tr>\n",
       "  </tbody>\n",
       "</table>\n",
       "</div>"
      ],
      "text/plain": [
       "   PREGNANCIES  GLUCOSE  BLOODPRESSURE  SKINTHICKNESS  INSULIN    BMI  DIABETESPEDIGREEFUNCTION  AGE  OUTCOME\n",
       "0            6      148             72             35        0 33.600                     0.627   50        1\n",
       "1            1       85             66             29        0 26.600                     0.351   31        0\n",
       "2            8      183             64              0        0 23.300                     0.672   32        1\n",
       "3            1       89             66             23       94 28.100                     0.167   21        0\n",
       "4            0      137             40             35      168 43.100                     2.288   33        1"
      ]
     },
     "execution_count": 311,
     "metadata": {},
     "output_type": "execute_result"
    }
   ],
   "source": [
    "df.head()"
   ]
  },
  {
   "cell_type": "code",
   "execution_count": 312,
   "id": "c96491c2-063d-40b8-9cd5-02c3336ad352",
   "metadata": {},
   "outputs": [
    {
     "data": {
      "text/html": [
       "<div>\n",
       "<style scoped>\n",
       "    .dataframe tbody tr th:only-of-type {\n",
       "        vertical-align: middle;\n",
       "    }\n",
       "\n",
       "    .dataframe tbody tr th {\n",
       "        vertical-align: top;\n",
       "    }\n",
       "\n",
       "    .dataframe thead th {\n",
       "        text-align: right;\n",
       "    }\n",
       "</style>\n",
       "<table border=\"1\" class=\"dataframe\">\n",
       "  <thead>\n",
       "    <tr style=\"text-align: right;\">\n",
       "      <th></th>\n",
       "      <th>PREGNANCIES</th>\n",
       "      <th>GLUCOSE</th>\n",
       "      <th>BLOODPRESSURE</th>\n",
       "      <th>SKINTHICKNESS</th>\n",
       "      <th>INSULIN</th>\n",
       "      <th>BMI</th>\n",
       "      <th>DIABETESPEDIGREEFUNCTION</th>\n",
       "      <th>AGE</th>\n",
       "      <th>OUTCOME</th>\n",
       "    </tr>\n",
       "  </thead>\n",
       "  <tbody>\n",
       "    <tr>\n",
       "      <th>0</th>\n",
       "      <td>6</td>\n",
       "      <td>148</td>\n",
       "      <td>72</td>\n",
       "      <td>35</td>\n",
       "      <td>0</td>\n",
       "      <td>33.600</td>\n",
       "      <td>0.627</td>\n",
       "      <td>50</td>\n",
       "      <td>1</td>\n",
       "    </tr>\n",
       "    <tr>\n",
       "      <th>1</th>\n",
       "      <td>1</td>\n",
       "      <td>85</td>\n",
       "      <td>66</td>\n",
       "      <td>29</td>\n",
       "      <td>0</td>\n",
       "      <td>26.600</td>\n",
       "      <td>0.351</td>\n",
       "      <td>31</td>\n",
       "      <td>0</td>\n",
       "    </tr>\n",
       "    <tr>\n",
       "      <th>2</th>\n",
       "      <td>8</td>\n",
       "      <td>183</td>\n",
       "      <td>64</td>\n",
       "      <td>0</td>\n",
       "      <td>0</td>\n",
       "      <td>23.300</td>\n",
       "      <td>0.672</td>\n",
       "      <td>32</td>\n",
       "      <td>1</td>\n",
       "    </tr>\n",
       "    <tr>\n",
       "      <th>5</th>\n",
       "      <td>5</td>\n",
       "      <td>116</td>\n",
       "      <td>74</td>\n",
       "      <td>0</td>\n",
       "      <td>0</td>\n",
       "      <td>25.600</td>\n",
       "      <td>0.201</td>\n",
       "      <td>30</td>\n",
       "      <td>0</td>\n",
       "    </tr>\n",
       "    <tr>\n",
       "      <th>7</th>\n",
       "      <td>10</td>\n",
       "      <td>115</td>\n",
       "      <td>0</td>\n",
       "      <td>0</td>\n",
       "      <td>0</td>\n",
       "      <td>35.300</td>\n",
       "      <td>0.134</td>\n",
       "      <td>29</td>\n",
       "      <td>0</td>\n",
       "    </tr>\n",
       "  </tbody>\n",
       "</table>\n",
       "</div>"
      ],
      "text/plain": [
       "   PREGNANCIES  GLUCOSE  BLOODPRESSURE  SKINTHICKNESS  INSULIN    BMI  DIABETESPEDIGREEFUNCTION  AGE  OUTCOME\n",
       "0            6      148             72             35        0 33.600                     0.627   50        1\n",
       "1            1       85             66             29        0 26.600                     0.351   31        0\n",
       "2            8      183             64              0        0 23.300                     0.672   32        1\n",
       "5            5      116             74              0        0 25.600                     0.201   30        0\n",
       "7           10      115              0              0        0 35.300                     0.134   29        0"
      ]
     },
     "execution_count": 312,
     "metadata": {},
     "output_type": "execute_result"
    }
   ],
   "source": [
    "df[df[\"INSULIN\"] == 0].head()"
   ]
  },
  {
   "cell_type": "code",
   "execution_count": 313,
   "id": "ca228114-802b-4ac6-9720-c4c039984e5e",
   "metadata": {},
   "outputs": [
    {
     "data": {
      "text/plain": [
       "['PREGNANCIES',\n",
       " 'GLUCOSE',\n",
       " 'BLOODPRESSURE',\n",
       " 'SKINTHICKNESS',\n",
       " 'INSULIN',\n",
       " 'BMI',\n",
       " 'OUTCOME']"
      ]
     },
     "execution_count": 313,
     "metadata": {},
     "output_type": "execute_result"
    }
   ],
   "source": [
    "nan_columns = [col for col in df.columns if (df[col] == 0).any(axis=None)]  \n",
    "nan_columns"
   ]
  },
  {
   "cell_type": "code",
   "execution_count": 314,
   "id": "b32c8bb2-9f79-40d8-a688-89c867593922",
   "metadata": {},
   "outputs": [
    {
     "data": {
      "text/plain": [
       "['INSULIN', 'SKINTHICKNESS', 'BMI', 'BLOODPRESSURE', 'GLUCOSE']"
      ]
     },
     "execution_count": 314,
     "metadata": {},
     "output_type": "execute_result"
    }
   ],
   "source": [
    "nan_columns = list(set(nan_columns) - set([\"PREGNANCIES\", \"OUTCOME\"]))  # Bu iki değişkenin sıfır olması eksik değer olması\n",
    "nan_columns                                                             # amacıyla yapılmadığı varsayılmıştır."
   ]
  },
  {
   "cell_type": "markdown",
   "id": "51b1848b-f734-47fa-bb32-05a3c09962a1",
   "metadata": {},
   "source": [
    "Sıfır olarak tanımlanmış bu değişken değerleri missing value olarak değerlendirilip, NaN olarak değişti"
   ]
  },
  {
   "cell_type": "code",
   "execution_count": 315,
   "id": "0203c4c0-6ee2-47ee-8ab9-96c34c0022d9",
   "metadata": {
    "tags": []
   },
   "outputs": [],
   "source": [
    "for col in nan_columns:          # Sıfır değerlerine NaN atandı.\n",
    "    df.loc[df[col] == 0, col] = np.nan"
   ]
  },
  {
   "cell_type": "code",
   "execution_count": 316,
   "id": "1c002fc5-5490-4ddc-815e-29b6914ac55f",
   "metadata": {},
   "outputs": [
    {
     "data": {
      "text/plain": [
       "True"
      ]
     },
     "execution_count": 316,
     "metadata": {},
     "output_type": "execute_result"
    }
   ],
   "source": [
    "df.isnull().values.any()  # NaN değişken var mı?"
   ]
  },
  {
   "cell_type": "code",
   "execution_count": 317,
   "id": "763e92f4-2cc8-4e36-93d0-18cc5c175355",
   "metadata": {
    "tags": []
   },
   "outputs": [
    {
     "data": {
      "text/plain": [
       "INSULIN                     374\n",
       "SKINTHICKNESS               227\n",
       "BLOODPRESSURE                35\n",
       "BMI                          11\n",
       "GLUCOSE                       5\n",
       "PREGNANCIES                   0\n",
       "DIABETESPEDIGREEFUNCTION      0\n",
       "AGE                           0\n",
       "OUTCOME                       0\n",
       "dtype: int64"
      ]
     },
     "execution_count": 317,
     "metadata": {},
     "output_type": "execute_result"
    }
   ],
   "source": [
    "df.isnull().sum().sort_values(ascending=False) # Değişkenlere göre NaN sayıları."
   ]
  },
  {
   "cell_type": "code",
   "execution_count": 318,
   "id": "1e5b0428-a98c-4c1c-a682-dc5eb4d25428",
   "metadata": {},
   "outputs": [
    {
     "data": {
      "text/plain": [
       "652"
      ]
     },
     "execution_count": 318,
     "metadata": {},
     "output_type": "execute_result"
    }
   ],
   "source": [
    "df.isnull().sum().sum()  # Veri setindeki toplam NaN sayısı."
   ]
  },
  {
   "cell_type": "code",
   "execution_count": 319,
   "id": "398a8a68-d424-4f7c-a98e-f10c41ce06ad",
   "metadata": {},
   "outputs": [
    {
     "data": {
      "text/html": [
       "<div>\n",
       "<style scoped>\n",
       "    .dataframe tbody tr th:only-of-type {\n",
       "        vertical-align: middle;\n",
       "    }\n",
       "\n",
       "    .dataframe tbody tr th {\n",
       "        vertical-align: top;\n",
       "    }\n",
       "\n",
       "    .dataframe thead th {\n",
       "        text-align: right;\n",
       "    }\n",
       "</style>\n",
       "<table border=\"1\" class=\"dataframe\">\n",
       "  <thead>\n",
       "    <tr style=\"text-align: right;\">\n",
       "      <th></th>\n",
       "      <th>PREGNANCIES</th>\n",
       "      <th>GLUCOSE</th>\n",
       "      <th>BLOODPRESSURE</th>\n",
       "      <th>SKINTHICKNESS</th>\n",
       "      <th>INSULIN</th>\n",
       "      <th>BMI</th>\n",
       "      <th>DIABETESPEDIGREEFUNCTION</th>\n",
       "      <th>AGE</th>\n",
       "      <th>OUTCOME</th>\n",
       "    </tr>\n",
       "  </thead>\n",
       "  <tbody>\n",
       "    <tr>\n",
       "      <th>0</th>\n",
       "      <td>6</td>\n",
       "      <td>148.000</td>\n",
       "      <td>72.000</td>\n",
       "      <td>35.000</td>\n",
       "      <td>NaN</td>\n",
       "      <td>33.600</td>\n",
       "      <td>0.627</td>\n",
       "      <td>50</td>\n",
       "      <td>1</td>\n",
       "    </tr>\n",
       "    <tr>\n",
       "      <th>1</th>\n",
       "      <td>1</td>\n",
       "      <td>85.000</td>\n",
       "      <td>66.000</td>\n",
       "      <td>29.000</td>\n",
       "      <td>NaN</td>\n",
       "      <td>26.600</td>\n",
       "      <td>0.351</td>\n",
       "      <td>31</td>\n",
       "      <td>0</td>\n",
       "    </tr>\n",
       "    <tr>\n",
       "      <th>2</th>\n",
       "      <td>8</td>\n",
       "      <td>183.000</td>\n",
       "      <td>64.000</td>\n",
       "      <td>NaN</td>\n",
       "      <td>NaN</td>\n",
       "      <td>23.300</td>\n",
       "      <td>0.672</td>\n",
       "      <td>32</td>\n",
       "      <td>1</td>\n",
       "    </tr>\n",
       "    <tr>\n",
       "      <th>5</th>\n",
       "      <td>5</td>\n",
       "      <td>116.000</td>\n",
       "      <td>74.000</td>\n",
       "      <td>NaN</td>\n",
       "      <td>NaN</td>\n",
       "      <td>25.600</td>\n",
       "      <td>0.201</td>\n",
       "      <td>30</td>\n",
       "      <td>0</td>\n",
       "    </tr>\n",
       "    <tr>\n",
       "      <th>7</th>\n",
       "      <td>10</td>\n",
       "      <td>115.000</td>\n",
       "      <td>NaN</td>\n",
       "      <td>NaN</td>\n",
       "      <td>NaN</td>\n",
       "      <td>35.300</td>\n",
       "      <td>0.134</td>\n",
       "      <td>29</td>\n",
       "      <td>0</td>\n",
       "    </tr>\n",
       "    <tr>\n",
       "      <th>9</th>\n",
       "      <td>8</td>\n",
       "      <td>125.000</td>\n",
       "      <td>96.000</td>\n",
       "      <td>NaN</td>\n",
       "      <td>NaN</td>\n",
       "      <td>NaN</td>\n",
       "      <td>0.232</td>\n",
       "      <td>54</td>\n",
       "      <td>1</td>\n",
       "    </tr>\n",
       "    <tr>\n",
       "      <th>10</th>\n",
       "      <td>4</td>\n",
       "      <td>110.000</td>\n",
       "      <td>92.000</td>\n",
       "      <td>NaN</td>\n",
       "      <td>NaN</td>\n",
       "      <td>37.600</td>\n",
       "      <td>0.191</td>\n",
       "      <td>30</td>\n",
       "      <td>0</td>\n",
       "    </tr>\n",
       "    <tr>\n",
       "      <th>11</th>\n",
       "      <td>10</td>\n",
       "      <td>168.000</td>\n",
       "      <td>74.000</td>\n",
       "      <td>NaN</td>\n",
       "      <td>NaN</td>\n",
       "      <td>38.000</td>\n",
       "      <td>0.537</td>\n",
       "      <td>34</td>\n",
       "      <td>1</td>\n",
       "    </tr>\n",
       "  </tbody>\n",
       "</table>\n",
       "</div>"
      ],
      "text/plain": [
       "    PREGNANCIES  GLUCOSE  BLOODPRESSURE  SKINTHICKNESS  INSULIN    BMI  DIABETESPEDIGREEFUNCTION  AGE  OUTCOME\n",
       "0             6  148.000         72.000         35.000      NaN 33.600                     0.627   50        1\n",
       "1             1   85.000         66.000         29.000      NaN 26.600                     0.351   31        0\n",
       "2             8  183.000         64.000            NaN      NaN 23.300                     0.672   32        1\n",
       "5             5  116.000         74.000            NaN      NaN 25.600                     0.201   30        0\n",
       "7            10  115.000            NaN            NaN      NaN 35.300                     0.134   29        0\n",
       "9             8  125.000         96.000            NaN      NaN    NaN                     0.232   54        1\n",
       "10            4  110.000         92.000            NaN      NaN 37.600                     0.191   30        0\n",
       "11           10  168.000         74.000            NaN      NaN 38.000                     0.537   34        1"
      ]
     },
     "execution_count": 319,
     "metadata": {},
     "output_type": "execute_result"
    }
   ],
   "source": [
    "df[df.isnull().any(axis=1)].head(8) # En az bir tane NaN değere sahip gözlem birimleri"
   ]
  },
  {
   "cell_type": "code",
   "execution_count": 320,
   "id": "a7b6afd5-d8ae-4d22-93bd-1cd20a2bb23a",
   "metadata": {},
   "outputs": [],
   "source": [
    "def missing_values_table(dataframe, na_name=False):\n",
    "    na_columns = [col for col in dataframe.columns if dataframe[col].isnull().sum() > 0]\n",
    "\n",
    "    n_miss = dataframe[na_columns].isnull().sum().sort_values(ascending=False)\n",
    "    ratio = (dataframe[na_columns].isnull().sum() / dataframe.shape[0] * 100).sort_values(ascending=False)\n",
    "    missing_df = pd.concat([n_miss, np.round(ratio, 2)], axis=1, keys=['n_miss', 'ratio'])\n",
    "    print(missing_df, end=\"\\n\")\n",
    "\n",
    "    if na_name:\n",
    "        return na_columns"
   ]
  },
  {
   "cell_type": "code",
   "execution_count": 321,
   "id": "7a394775-a63f-4ec9-bd15-5a982431eebf",
   "metadata": {},
   "outputs": [
    {
     "name": "stdout",
     "output_type": "stream",
     "text": [
      "               n_miss  ratio\n",
      "INSULIN           374 48.700\n",
      "SKINTHICKNESS     227 29.560\n",
      "BLOODPRESSURE      35  4.560\n",
      "BMI                11  1.430\n",
      "GLUCOSE             5  0.650\n"
     ]
    }
   ],
   "source": [
    "missing_values_table(df)   # Değişkenlere ait NaN sayılarının, toplam veri setine göre oranları."
   ]
  },
  {
   "cell_type": "markdown",
   "id": "8cfb7216-1530-41a0-8c0c-760c551c41d3",
   "metadata": {},
   "source": [
    "missing value değeri küçük olan GLUCOSE ve BMI değişkeni, değişkenlerin mean'nine göre doldurulacaktır. Diğer değişkenler bir sonraki adımda doldurulacaktır."
   ]
  },
  {
   "cell_type": "code",
   "execution_count": 322,
   "id": "bacccdff-d091-40fd-9c89-3dac44bd2233",
   "metadata": {},
   "outputs": [],
   "source": [
    "df[\"GLUCOSE\"] = df[\"GLUCOSE\"].fillna(df[\"GLUCOSE\"].mean())"
   ]
  },
  {
   "cell_type": "code",
   "execution_count": 323,
   "id": "7361f5b2-4c88-484f-8212-e81f37c7c0bd",
   "metadata": {},
   "outputs": [],
   "source": [
    "df[\"BMI\"] = df[\"BMI\"].fillna(df[\"BMI\"].mean())"
   ]
  },
  {
   "cell_type": "code",
   "execution_count": 324,
   "id": "b0b76c85-4205-4da3-9b4a-4f1c64845084",
   "metadata": {},
   "outputs": [
    {
     "name": "stdout",
     "output_type": "stream",
     "text": [
      "               n_miss  ratio\n",
      "INSULIN           374 48.700\n",
      "SKINTHICKNESS     227 29.560\n",
      "BLOODPRESSURE      35  4.560\n"
     ]
    }
   ],
   "source": [
    "missing_values_table(df)"
   ]
  },
  {
   "cell_type": "markdown",
   "id": "182b6a2d-c2a6-4cc6-8f01-8ae590aff680",
   "metadata": {},
   "source": [
    "#### Adım 2: Yeni değişkenler oluşturunuz."
   ]
  },
  {
   "cell_type": "markdown",
   "id": "ef0b569b-9a8f-4697-9606-3521677a58f1",
   "metadata": {},
   "source": [
    "Yaş aralıklarına göre sınıflandırma"
   ]
  },
  {
   "cell_type": "markdown",
   "id": "59861ea7-3498-4368-a459-e5a7f27a82cb",
   "metadata": {},
   "source": [
    "##### Kategorize edilmiş AGE değişkeni"
   ]
  },
  {
   "cell_type": "code",
   "execution_count": 325,
   "id": "028e1537-9ef8-412d-89ec-c527ba6c456e",
   "metadata": {},
   "outputs": [],
   "source": [
    "df.loc[(df['AGE'] <= 22), 'AGE_CAT'] = 'young'\n",
    "df.loc[(df['AGE'] > 22) & (df['AGE'] <= 35), 'AGE_CAT']  = \"adult\"\n",
    "df.loc[(df['AGE'] > 35) & (df['AGE'] <= 55), 'AGE_CAT'] = 'mature'\n",
    "df.loc[(df['AGE'] > 55), 'AGE_CAT'] = 'senior'"
   ]
  },
  {
   "cell_type": "code",
   "execution_count": 326,
   "id": "d1e49c89-02ae-48c6-9b33-817403b4e29b",
   "metadata": {},
   "outputs": [
    {
     "data": {
      "text/html": [
       "<div>\n",
       "<style scoped>\n",
       "    .dataframe tbody tr th:only-of-type {\n",
       "        vertical-align: middle;\n",
       "    }\n",
       "\n",
       "    .dataframe tbody tr th {\n",
       "        vertical-align: top;\n",
       "    }\n",
       "\n",
       "    .dataframe thead th {\n",
       "        text-align: right;\n",
       "    }\n",
       "</style>\n",
       "<table border=\"1\" class=\"dataframe\">\n",
       "  <thead>\n",
       "    <tr style=\"text-align: right;\">\n",
       "      <th></th>\n",
       "      <th>PREGNANCIES</th>\n",
       "      <th>GLUCOSE</th>\n",
       "      <th>BLOODPRESSURE</th>\n",
       "      <th>SKINTHICKNESS</th>\n",
       "      <th>INSULIN</th>\n",
       "      <th>BMI</th>\n",
       "      <th>DIABETESPEDIGREEFUNCTION</th>\n",
       "      <th>AGE</th>\n",
       "      <th>OUTCOME</th>\n",
       "    </tr>\n",
       "  </thead>\n",
       "  <tbody>\n",
       "    <tr>\n",
       "      <th>INSULIN</th>\n",
       "      <td>-0.074</td>\n",
       "      <td>0.331</td>\n",
       "      <td>0.089</td>\n",
       "      <td>0.437</td>\n",
       "      <td>1.000</td>\n",
       "      <td>0.198</td>\n",
       "      <td>0.185</td>\n",
       "      <td>-0.042</td>\n",
       "      <td>0.131</td>\n",
       "    </tr>\n",
       "    <tr>\n",
       "      <th>SKINTHICKNESS</th>\n",
       "      <td>-0.082</td>\n",
       "      <td>0.057</td>\n",
       "      <td>0.207</td>\n",
       "      <td>1.000</td>\n",
       "      <td>0.437</td>\n",
       "      <td>0.393</td>\n",
       "      <td>0.184</td>\n",
       "      <td>-0.114</td>\n",
       "      <td>0.075</td>\n",
       "    </tr>\n",
       "    <tr>\n",
       "      <th>GLUCOSE</th>\n",
       "      <td>0.129</td>\n",
       "      <td>1.000</td>\n",
       "      <td>0.153</td>\n",
       "      <td>0.057</td>\n",
       "      <td>0.331</td>\n",
       "      <td>0.221</td>\n",
       "      <td>0.137</td>\n",
       "      <td>0.264</td>\n",
       "      <td>0.467</td>\n",
       "    </tr>\n",
       "    <tr>\n",
       "      <th>BMI</th>\n",
       "      <td>0.018</td>\n",
       "      <td>0.221</td>\n",
       "      <td>0.282</td>\n",
       "      <td>0.393</td>\n",
       "      <td>0.198</td>\n",
       "      <td>1.000</td>\n",
       "      <td>0.141</td>\n",
       "      <td>0.036</td>\n",
       "      <td>0.293</td>\n",
       "    </tr>\n",
       "    <tr>\n",
       "      <th>DIABETESPEDIGREEFUNCTION</th>\n",
       "      <td>-0.034</td>\n",
       "      <td>0.137</td>\n",
       "      <td>0.041</td>\n",
       "      <td>0.184</td>\n",
       "      <td>0.185</td>\n",
       "      <td>0.141</td>\n",
       "      <td>1.000</td>\n",
       "      <td>0.034</td>\n",
       "      <td>0.174</td>\n",
       "    </tr>\n",
       "    <tr>\n",
       "      <th>OUTCOME</th>\n",
       "      <td>0.222</td>\n",
       "      <td>0.467</td>\n",
       "      <td>0.065</td>\n",
       "      <td>0.075</td>\n",
       "      <td>0.131</td>\n",
       "      <td>0.293</td>\n",
       "      <td>0.174</td>\n",
       "      <td>0.238</td>\n",
       "      <td>1.000</td>\n",
       "    </tr>\n",
       "    <tr>\n",
       "      <th>BLOODPRESSURE</th>\n",
       "      <td>0.141</td>\n",
       "      <td>0.153</td>\n",
       "      <td>1.000</td>\n",
       "      <td>0.207</td>\n",
       "      <td>0.089</td>\n",
       "      <td>0.282</td>\n",
       "      <td>0.041</td>\n",
       "      <td>0.240</td>\n",
       "      <td>0.065</td>\n",
       "    </tr>\n",
       "    <tr>\n",
       "      <th>AGE</th>\n",
       "      <td>0.544</td>\n",
       "      <td>0.264</td>\n",
       "      <td>0.240</td>\n",
       "      <td>-0.114</td>\n",
       "      <td>-0.042</td>\n",
       "      <td>0.036</td>\n",
       "      <td>0.034</td>\n",
       "      <td>1.000</td>\n",
       "      <td>0.238</td>\n",
       "    </tr>\n",
       "    <tr>\n",
       "      <th>PREGNANCIES</th>\n",
       "      <td>1.000</td>\n",
       "      <td>0.129</td>\n",
       "      <td>0.141</td>\n",
       "      <td>-0.082</td>\n",
       "      <td>-0.074</td>\n",
       "      <td>0.018</td>\n",
       "      <td>-0.034</td>\n",
       "      <td>0.544</td>\n",
       "      <td>0.222</td>\n",
       "    </tr>\n",
       "  </tbody>\n",
       "</table>\n",
       "</div>"
      ],
      "text/plain": [
       "                          PREGNANCIES  GLUCOSE  BLOODPRESSURE  SKINTHICKNESS  INSULIN   BMI  DIABETESPEDIGREEFUNCTION    AGE  OUTCOME\n",
       "INSULIN                        -0.074    0.331          0.089          0.437    1.000 0.198                     0.185 -0.042    0.131\n",
       "SKINTHICKNESS                  -0.082    0.057          0.207          1.000    0.437 0.393                     0.184 -0.114    0.075\n",
       "GLUCOSE                         0.129    1.000          0.153          0.057    0.331 0.221                     0.137  0.264    0.467\n",
       "BMI                             0.018    0.221          0.282          0.393    0.198 1.000                     0.141  0.036    0.293\n",
       "DIABETESPEDIGREEFUNCTION       -0.034    0.137          0.041          0.184    0.185 0.141                     1.000  0.034    0.174\n",
       "OUTCOME                         0.222    0.467          0.065          0.075    0.131 0.293                     0.174  0.238    1.000\n",
       "BLOODPRESSURE                   0.141    0.153          1.000          0.207    0.089 0.282                     0.041  0.240    0.065\n",
       "AGE                             0.544    0.264          0.240         -0.114   -0.042 0.036                     0.034  1.000    0.238\n",
       "PREGNANCIES                     1.000    0.129          0.141         -0.082   -0.074 0.018                    -0.034  0.544    0.222"
      ]
     },
     "execution_count": 326,
     "metadata": {},
     "output_type": "execute_result"
    }
   ],
   "source": [
    "df_corr.sort_values(\"INSULIN\", ascending=False) # En fazla NaN değerine sahip INSULIN değişkeninin,\n",
    "                                                # diğer değişkenlerle olan korelasyon değerleri."
   ]
  },
  {
   "cell_type": "markdown",
   "id": "cecad316-bda7-4c8d-9142-9ba0b38ba891",
   "metadata": {},
   "source": [
    "Görüldüğü üzere, INSULIN ile korelasyon değeri en yüksek değişken SKINTHICKNESS. Fakat, SKINTHICKNESS değişkeni en çok NaN değerleri olan ikinci değişken olduğundan, GLUCOSE değişkenini kategorize edip NaN INSULIN değerlerini buna göre vereceğiz."
   ]
  },
  {
   "cell_type": "code",
   "execution_count": 327,
   "id": "674264b7-f0ca-4b49-b69f-fab3e4ee1122",
   "metadata": {},
   "outputs": [
    {
     "data": {
      "text/plain": [
       "count   768.000\n",
       "mean    121.687\n",
       "std      30.436\n",
       "min      44.000\n",
       "25%      99.750\n",
       "50%     117.000\n",
       "75%     140.250\n",
       "max     199.000\n",
       "Name: GLUCOSE, dtype: float64"
      ]
     },
     "execution_count": 327,
     "metadata": {},
     "output_type": "execute_result"
    }
   ],
   "source": [
    "df[\"GLUCOSE\"].describe().T"
   ]
  },
  {
   "cell_type": "code",
   "execution_count": 328,
   "id": "335ef9c1-5b34-43e3-9456-81f4b39a0740",
   "metadata": {},
   "outputs": [
    {
     "data": {
      "image/png": "[encoded data removed]",
      "text/plain": [
       "<Figure size 432x288 with 1 Axes>"
      ]
     },
     "metadata": {
      "needs_background": "light"
     },
     "output_type": "display_data"
    }
   ],
   "source": [
    "sns.countplot(x=df[\"GLUCOSE\"])\n",
    "plt.show()"
   ]
  },
  {
   "cell_type": "markdown",
   "id": "a184552e-1240-4575-b107-2e0b5407e6ec",
   "metadata": {},
   "source": [
    "##### Kategorize edilmiş GLUCOSE değişkeni"
   ]
  },
  {
   "cell_type": "code",
   "execution_count": 329,
   "id": "260b4ec8-80c6-4fbe-bea1-3b06f2ad19e8",
   "metadata": {},
   "outputs": [
    {
     "data": {
      "text/html": [
       "<div>\n",
       "<style scoped>\n",
       "    .dataframe tbody tr th:only-of-type {\n",
       "        vertical-align: middle;\n",
       "    }\n",
       "\n",
       "    .dataframe tbody tr th {\n",
       "        vertical-align: top;\n",
       "    }\n",
       "\n",
       "    .dataframe thead th {\n",
       "        text-align: right;\n",
       "    }\n",
       "</style>\n",
       "<table border=\"1\" class=\"dataframe\">\n",
       "  <thead>\n",
       "    <tr style=\"text-align: right;\">\n",
       "      <th></th>\n",
       "      <th>PREGNANCIES</th>\n",
       "      <th>GLUCOSE</th>\n",
       "      <th>BLOODPRESSURE</th>\n",
       "      <th>SKINTHICKNESS</th>\n",
       "      <th>INSULIN</th>\n",
       "      <th>BMI</th>\n",
       "      <th>DIABETESPEDIGREEFUNCTION</th>\n",
       "      <th>AGE</th>\n",
       "      <th>OUTCOME</th>\n",
       "      <th>AGE_CAT</th>\n",
       "      <th>GLUCOSE_LEVEL</th>\n",
       "    </tr>\n",
       "  </thead>\n",
       "  <tbody>\n",
       "    <tr>\n",
       "      <th>0</th>\n",
       "      <td>6</td>\n",
       "      <td>148.000</td>\n",
       "      <td>72.000</td>\n",
       "      <td>35.000</td>\n",
       "      <td>NaN</td>\n",
       "      <td>33.600</td>\n",
       "      <td>0.627</td>\n",
       "      <td>50</td>\n",
       "      <td>1</td>\n",
       "      <td>mature</td>\n",
       "      <td>high</td>\n",
       "    </tr>\n",
       "    <tr>\n",
       "      <th>1</th>\n",
       "      <td>1</td>\n",
       "      <td>85.000</td>\n",
       "      <td>66.000</td>\n",
       "      <td>29.000</td>\n",
       "      <td>NaN</td>\n",
       "      <td>26.600</td>\n",
       "      <td>0.351</td>\n",
       "      <td>31</td>\n",
       "      <td>0</td>\n",
       "      <td>adult</td>\n",
       "      <td>very_poor</td>\n",
       "    </tr>\n",
       "    <tr>\n",
       "      <th>2</th>\n",
       "      <td>8</td>\n",
       "      <td>183.000</td>\n",
       "      <td>64.000</td>\n",
       "      <td>NaN</td>\n",
       "      <td>NaN</td>\n",
       "      <td>23.300</td>\n",
       "      <td>0.672</td>\n",
       "      <td>32</td>\n",
       "      <td>1</td>\n",
       "      <td>adult</td>\n",
       "      <td>high</td>\n",
       "    </tr>\n",
       "    <tr>\n",
       "      <th>3</th>\n",
       "      <td>1</td>\n",
       "      <td>89.000</td>\n",
       "      <td>66.000</td>\n",
       "      <td>23.000</td>\n",
       "      <td>94.000</td>\n",
       "      <td>28.100</td>\n",
       "      <td>0.167</td>\n",
       "      <td>21</td>\n",
       "      <td>0</td>\n",
       "      <td>young</td>\n",
       "      <td>very_poor</td>\n",
       "    </tr>\n",
       "    <tr>\n",
       "      <th>4</th>\n",
       "      <td>0</td>\n",
       "      <td>137.000</td>\n",
       "      <td>40.000</td>\n",
       "      <td>35.000</td>\n",
       "      <td>168.000</td>\n",
       "      <td>43.100</td>\n",
       "      <td>2.288</td>\n",
       "      <td>33</td>\n",
       "      <td>1</td>\n",
       "      <td>adult</td>\n",
       "      <td>normal</td>\n",
       "    </tr>\n",
       "    <tr>\n",
       "      <th>5</th>\n",
       "      <td>5</td>\n",
       "      <td>116.000</td>\n",
       "      <td>74.000</td>\n",
       "      <td>NaN</td>\n",
       "      <td>NaN</td>\n",
       "      <td>25.600</td>\n",
       "      <td>0.201</td>\n",
       "      <td>30</td>\n",
       "      <td>0</td>\n",
       "      <td>adult</td>\n",
       "      <td>low</td>\n",
       "    </tr>\n",
       "    <tr>\n",
       "      <th>6</th>\n",
       "      <td>3</td>\n",
       "      <td>78.000</td>\n",
       "      <td>50.000</td>\n",
       "      <td>32.000</td>\n",
       "      <td>88.000</td>\n",
       "      <td>31.000</td>\n",
       "      <td>0.248</td>\n",
       "      <td>26</td>\n",
       "      <td>1</td>\n",
       "      <td>adult</td>\n",
       "      <td>very_poor</td>\n",
       "    </tr>\n",
       "    <tr>\n",
       "      <th>7</th>\n",
       "      <td>10</td>\n",
       "      <td>115.000</td>\n",
       "      <td>NaN</td>\n",
       "      <td>NaN</td>\n",
       "      <td>NaN</td>\n",
       "      <td>35.300</td>\n",
       "      <td>0.134</td>\n",
       "      <td>29</td>\n",
       "      <td>0</td>\n",
       "      <td>adult</td>\n",
       "      <td>low</td>\n",
       "    </tr>\n",
       "  </tbody>\n",
       "</table>\n",
       "</div>"
      ],
      "text/plain": [
       "   PREGNANCIES  GLUCOSE  BLOODPRESSURE  SKINTHICKNESS  INSULIN    BMI  DIABETESPEDIGREEFUNCTION  AGE  OUTCOME AGE_CAT GLUCOSE_LEVEL\n",
       "0            6  148.000         72.000         35.000      NaN 33.600                     0.627   50        1  mature          high\n",
       "1            1   85.000         66.000         29.000      NaN 26.600                     0.351   31        0   adult     very_poor\n",
       "2            8  183.000         64.000            NaN      NaN 23.300                     0.672   32        1   adult          high\n",
       "3            1   89.000         66.000         23.000   94.000 28.100                     0.167   21        0   young     very_poor\n",
       "4            0  137.000         40.000         35.000  168.000 43.100                     2.288   33        1   adult        normal\n",
       "5            5  116.000         74.000            NaN      NaN 25.600                     0.201   30        0   adult           low\n",
       "6            3   78.000         50.000         32.000   88.000 31.000                     0.248   26        1   adult     very_poor\n",
       "7           10  115.000            NaN            NaN      NaN 35.300                     0.134   29        0   adult           low"
      ]
     },
     "execution_count": 329,
     "metadata": {},
     "output_type": "execute_result"
    }
   ],
   "source": [
    "df[\"GLUCOSE_LEVEL\"] = pd.qcut(df[\"GLUCOSE\"], q=[0, 0.25, 0.5, 0.75, 1], labels=['very_poor', 'low', 'normal', 'high'], )\n",
    "df.head(8)"
   ]
  },
  {
   "cell_type": "markdown",
   "id": "e2b94f14-b94c-41a2-9577-e38783347d8d",
   "metadata": {},
   "source": [
    "##### GLUCOSE_LEVEL ---> INSULIN NaN değişkenleri belirlenir"
   ]
  },
  {
   "cell_type": "code",
   "execution_count": 330,
   "id": "f9ddeb1e-b451-40b7-ad20-cd4a68e158e9",
   "metadata": {},
   "outputs": [],
   "source": [
    "df[\"INSULIN\"] = df[\"INSULIN\"].fillna(df.groupby(\"GLUCOSE_LEVEL\")[\"INSULIN\"].transform(\"median\"))"
   ]
  },
  {
   "cell_type": "code",
   "execution_count": 331,
   "id": "477d6ee3-628c-4348-b5f4-5a1f97d9f3f0",
   "metadata": {},
   "outputs": [
    {
     "name": "stdout",
     "output_type": "stream",
     "text": [
      "               n_miss  ratio\n",
      "SKINTHICKNESS     227 29.560\n",
      "BLOODPRESSURE      35  4.560\n"
     ]
    }
   ],
   "source": [
    "missing_values_table(df)"
   ]
  },
  {
   "cell_type": "markdown",
   "id": "4653a08d-eb0e-4f76-bad7-a186f84931ca",
   "metadata": {},
   "source": [
    "INSULIN değişkeninden sonra en fazla missing value bulunduran değişken SKINTHICKNESS. Bu değişkenle aralarında korelasyonu en yüksek olan değişken BMI'dır (INSULIN dışında). "
   ]
  },
  {
   "cell_type": "code",
   "execution_count": 332,
   "id": "06a51643-c088-4800-8fba-37d4acedb602",
   "metadata": {},
   "outputs": [
    {
     "data": {
      "text/html": [
       "<div>\n",
       "<style scoped>\n",
       "    .dataframe tbody tr th:only-of-type {\n",
       "        vertical-align: middle;\n",
       "    }\n",
       "\n",
       "    .dataframe tbody tr th {\n",
       "        vertical-align: top;\n",
       "    }\n",
       "\n",
       "    .dataframe thead th {\n",
       "        text-align: right;\n",
       "    }\n",
       "</style>\n",
       "<table border=\"1\" class=\"dataframe\">\n",
       "  <thead>\n",
       "    <tr style=\"text-align: right;\">\n",
       "      <th></th>\n",
       "      <th>PREGNANCIES</th>\n",
       "      <th>GLUCOSE</th>\n",
       "      <th>BLOODPRESSURE</th>\n",
       "      <th>SKINTHICKNESS</th>\n",
       "      <th>INSULIN</th>\n",
       "      <th>BMI</th>\n",
       "      <th>DIABETESPEDIGREEFUNCTION</th>\n",
       "      <th>AGE</th>\n",
       "      <th>OUTCOME</th>\n",
       "    </tr>\n",
       "  </thead>\n",
       "  <tbody>\n",
       "    <tr>\n",
       "      <th>SKINTHICKNESS</th>\n",
       "      <td>-0.082</td>\n",
       "      <td>0.057</td>\n",
       "      <td>0.207</td>\n",
       "      <td>1.000</td>\n",
       "      <td>0.437</td>\n",
       "      <td>0.393</td>\n",
       "      <td>0.184</td>\n",
       "      <td>-0.114</td>\n",
       "      <td>0.075</td>\n",
       "    </tr>\n",
       "    <tr>\n",
       "      <th>INSULIN</th>\n",
       "      <td>-0.074</td>\n",
       "      <td>0.331</td>\n",
       "      <td>0.089</td>\n",
       "      <td>0.437</td>\n",
       "      <td>1.000</td>\n",
       "      <td>0.198</td>\n",
       "      <td>0.185</td>\n",
       "      <td>-0.042</td>\n",
       "      <td>0.131</td>\n",
       "    </tr>\n",
       "    <tr>\n",
       "      <th>BMI</th>\n",
       "      <td>0.018</td>\n",
       "      <td>0.221</td>\n",
       "      <td>0.282</td>\n",
       "      <td>0.393</td>\n",
       "      <td>0.198</td>\n",
       "      <td>1.000</td>\n",
       "      <td>0.141</td>\n",
       "      <td>0.036</td>\n",
       "      <td>0.293</td>\n",
       "    </tr>\n",
       "    <tr>\n",
       "      <th>BLOODPRESSURE</th>\n",
       "      <td>0.141</td>\n",
       "      <td>0.153</td>\n",
       "      <td>1.000</td>\n",
       "      <td>0.207</td>\n",
       "      <td>0.089</td>\n",
       "      <td>0.282</td>\n",
       "      <td>0.041</td>\n",
       "      <td>0.240</td>\n",
       "      <td>0.065</td>\n",
       "    </tr>\n",
       "    <tr>\n",
       "      <th>DIABETESPEDIGREEFUNCTION</th>\n",
       "      <td>-0.034</td>\n",
       "      <td>0.137</td>\n",
       "      <td>0.041</td>\n",
       "      <td>0.184</td>\n",
       "      <td>0.185</td>\n",
       "      <td>0.141</td>\n",
       "      <td>1.000</td>\n",
       "      <td>0.034</td>\n",
       "      <td>0.174</td>\n",
       "    </tr>\n",
       "    <tr>\n",
       "      <th>OUTCOME</th>\n",
       "      <td>0.222</td>\n",
       "      <td>0.467</td>\n",
       "      <td>0.065</td>\n",
       "      <td>0.075</td>\n",
       "      <td>0.131</td>\n",
       "      <td>0.293</td>\n",
       "      <td>0.174</td>\n",
       "      <td>0.238</td>\n",
       "      <td>1.000</td>\n",
       "    </tr>\n",
       "    <tr>\n",
       "      <th>GLUCOSE</th>\n",
       "      <td>0.129</td>\n",
       "      <td>1.000</td>\n",
       "      <td>0.153</td>\n",
       "      <td>0.057</td>\n",
       "      <td>0.331</td>\n",
       "      <td>0.221</td>\n",
       "      <td>0.137</td>\n",
       "      <td>0.264</td>\n",
       "      <td>0.467</td>\n",
       "    </tr>\n",
       "    <tr>\n",
       "      <th>PREGNANCIES</th>\n",
       "      <td>1.000</td>\n",
       "      <td>0.129</td>\n",
       "      <td>0.141</td>\n",
       "      <td>-0.082</td>\n",
       "      <td>-0.074</td>\n",
       "      <td>0.018</td>\n",
       "      <td>-0.034</td>\n",
       "      <td>0.544</td>\n",
       "      <td>0.222</td>\n",
       "    </tr>\n",
       "    <tr>\n",
       "      <th>AGE</th>\n",
       "      <td>0.544</td>\n",
       "      <td>0.264</td>\n",
       "      <td>0.240</td>\n",
       "      <td>-0.114</td>\n",
       "      <td>-0.042</td>\n",
       "      <td>0.036</td>\n",
       "      <td>0.034</td>\n",
       "      <td>1.000</td>\n",
       "      <td>0.238</td>\n",
       "    </tr>\n",
       "  </tbody>\n",
       "</table>\n",
       "</div>"
      ],
      "text/plain": [
       "                          PREGNANCIES  GLUCOSE  BLOODPRESSURE  SKINTHICKNESS  INSULIN   BMI  DIABETESPEDIGREEFUNCTION    AGE  OUTCOME\n",
       "SKINTHICKNESS                  -0.082    0.057          0.207          1.000    0.437 0.393                     0.184 -0.114    0.075\n",
       "INSULIN                        -0.074    0.331          0.089          0.437    1.000 0.198                     0.185 -0.042    0.131\n",
       "BMI                             0.018    0.221          0.282          0.393    0.198 1.000                     0.141  0.036    0.293\n",
       "BLOODPRESSURE                   0.141    0.153          1.000          0.207    0.089 0.282                     0.041  0.240    0.065\n",
       "DIABETESPEDIGREEFUNCTION       -0.034    0.137          0.041          0.184    0.185 0.141                     1.000  0.034    0.174\n",
       "OUTCOME                         0.222    0.467          0.065          0.075    0.131 0.293                     0.174  0.238    1.000\n",
       "GLUCOSE                         0.129    1.000          0.153          0.057    0.331 0.221                     0.137  0.264    0.467\n",
       "PREGNANCIES                     1.000    0.129          0.141         -0.082   -0.074 0.018                    -0.034  0.544    0.222\n",
       "AGE                             0.544    0.264          0.240         -0.114   -0.042 0.036                     0.034  1.000    0.238"
      ]
     },
     "execution_count": 332,
     "metadata": {},
     "output_type": "execute_result"
    }
   ],
   "source": [
    "df_corr.sort_values(\"SKINTHICKNESS\", ascending=False)"
   ]
  },
  {
   "cell_type": "code",
   "execution_count": 333,
   "id": "e9b9f482-88fc-485d-a39a-77373a0994c1",
   "metadata": {},
   "outputs": [
    {
     "data": {
      "text/plain": [
       "count   768.000\n",
       "mean     32.457\n",
       "std       6.875\n",
       "min      18.200\n",
       "25%      27.500\n",
       "50%      32.400\n",
       "75%      36.600\n",
       "max      67.100\n",
       "Name: BMI, dtype: float64"
      ]
     },
     "execution_count": 333,
     "metadata": {},
     "output_type": "execute_result"
    }
   ],
   "source": [
    "df[\"BMI\"].describe().T"
   ]
  },
  {
   "cell_type": "code",
   "execution_count": 334,
   "id": "96715461-5198-48a1-ad51-e1f0ff9183d5",
   "metadata": {},
   "outputs": [
    {
     "data": {
      "image/png": "[encoded data removed]",
      "text/plain": [
       "<Figure size 432x288 with 1 Axes>"
      ]
     },
     "metadata": {
      "needs_background": "light"
     },
     "output_type": "display_data"
    }
   ],
   "source": [
    "sns.countplot(x=df[\"BMI\"])\n",
    "plt.show()"
   ]
  },
  {
   "cell_type": "markdown",
   "id": "ec4bf085-7c5d-40e5-b537-37eb3a4a48b0",
   "metadata": {},
   "source": [
    "##### Kategorize edilmiş BMI_LEVEL değişkeni"
   ]
  },
  {
   "cell_type": "code",
   "execution_count": 335,
   "id": "a09e435d-d021-4388-8242-5b9090f9ef25",
   "metadata": {},
   "outputs": [
    {
     "data": {
      "text/html": [
       "<div>\n",
       "<style scoped>\n",
       "    .dataframe tbody tr th:only-of-type {\n",
       "        vertical-align: middle;\n",
       "    }\n",
       "\n",
       "    .dataframe tbody tr th {\n",
       "        vertical-align: top;\n",
       "    }\n",
       "\n",
       "    .dataframe thead th {\n",
       "        text-align: right;\n",
       "    }\n",
       "</style>\n",
       "<table border=\"1\" class=\"dataframe\">\n",
       "  <thead>\n",
       "    <tr style=\"text-align: right;\">\n",
       "      <th></th>\n",
       "      <th>PREGNANCIES</th>\n",
       "      <th>GLUCOSE</th>\n",
       "      <th>BLOODPRESSURE</th>\n",
       "      <th>SKINTHICKNESS</th>\n",
       "      <th>INSULIN</th>\n",
       "      <th>BMI</th>\n",
       "      <th>DIABETESPEDIGREEFUNCTION</th>\n",
       "      <th>AGE</th>\n",
       "      <th>OUTCOME</th>\n",
       "      <th>AGE_CAT</th>\n",
       "      <th>GLUCOSE_LEVEL</th>\n",
       "      <th>BMI_LEVEL</th>\n",
       "    </tr>\n",
       "  </thead>\n",
       "  <tbody>\n",
       "    <tr>\n",
       "      <th>0</th>\n",
       "      <td>6</td>\n",
       "      <td>148.000</td>\n",
       "      <td>72.000</td>\n",
       "      <td>35.000</td>\n",
       "      <td>194.000</td>\n",
       "      <td>33.600</td>\n",
       "      <td>0.627</td>\n",
       "      <td>50</td>\n",
       "      <td>1</td>\n",
       "      <td>mature</td>\n",
       "      <td>high</td>\n",
       "      <td>obesity</td>\n",
       "    </tr>\n",
       "    <tr>\n",
       "      <th>1</th>\n",
       "      <td>1</td>\n",
       "      <td>85.000</td>\n",
       "      <td>66.000</td>\n",
       "      <td>29.000</td>\n",
       "      <td>66.000</td>\n",
       "      <td>26.600</td>\n",
       "      <td>0.351</td>\n",
       "      <td>31</td>\n",
       "      <td>0</td>\n",
       "      <td>adult</td>\n",
       "      <td>very_poor</td>\n",
       "      <td>overweight</td>\n",
       "    </tr>\n",
       "    <tr>\n",
       "      <th>2</th>\n",
       "      <td>8</td>\n",
       "      <td>183.000</td>\n",
       "      <td>64.000</td>\n",
       "      <td>NaN</td>\n",
       "      <td>194.000</td>\n",
       "      <td>23.300</td>\n",
       "      <td>0.672</td>\n",
       "      <td>32</td>\n",
       "      <td>1</td>\n",
       "      <td>adult</td>\n",
       "      <td>high</td>\n",
       "      <td>normal weight</td>\n",
       "    </tr>\n",
       "    <tr>\n",
       "      <th>3</th>\n",
       "      <td>1</td>\n",
       "      <td>89.000</td>\n",
       "      <td>66.000</td>\n",
       "      <td>23.000</td>\n",
       "      <td>94.000</td>\n",
       "      <td>28.100</td>\n",
       "      <td>0.167</td>\n",
       "      <td>21</td>\n",
       "      <td>0</td>\n",
       "      <td>young</td>\n",
       "      <td>very_poor</td>\n",
       "      <td>overweight</td>\n",
       "    </tr>\n",
       "    <tr>\n",
       "      <th>4</th>\n",
       "      <td>0</td>\n",
       "      <td>137.000</td>\n",
       "      <td>40.000</td>\n",
       "      <td>35.000</td>\n",
       "      <td>168.000</td>\n",
       "      <td>43.100</td>\n",
       "      <td>2.288</td>\n",
       "      <td>33</td>\n",
       "      <td>1</td>\n",
       "      <td>adult</td>\n",
       "      <td>normal</td>\n",
       "      <td>super obesity</td>\n",
       "    </tr>\n",
       "    <tr>\n",
       "      <th>5</th>\n",
       "      <td>5</td>\n",
       "      <td>116.000</td>\n",
       "      <td>74.000</td>\n",
       "      <td>NaN</td>\n",
       "      <td>110.000</td>\n",
       "      <td>25.600</td>\n",
       "      <td>0.201</td>\n",
       "      <td>30</td>\n",
       "      <td>0</td>\n",
       "      <td>adult</td>\n",
       "      <td>low</td>\n",
       "      <td>overweight</td>\n",
       "    </tr>\n",
       "    <tr>\n",
       "      <th>6</th>\n",
       "      <td>3</td>\n",
       "      <td>78.000</td>\n",
       "      <td>50.000</td>\n",
       "      <td>32.000</td>\n",
       "      <td>88.000</td>\n",
       "      <td>31.000</td>\n",
       "      <td>0.248</td>\n",
       "      <td>26</td>\n",
       "      <td>1</td>\n",
       "      <td>adult</td>\n",
       "      <td>very_poor</td>\n",
       "      <td>obesity</td>\n",
       "    </tr>\n",
       "    <tr>\n",
       "      <th>7</th>\n",
       "      <td>10</td>\n",
       "      <td>115.000</td>\n",
       "      <td>NaN</td>\n",
       "      <td>NaN</td>\n",
       "      <td>110.000</td>\n",
       "      <td>35.300</td>\n",
       "      <td>0.134</td>\n",
       "      <td>29</td>\n",
       "      <td>0</td>\n",
       "      <td>adult</td>\n",
       "      <td>low</td>\n",
       "      <td>obesity</td>\n",
       "    </tr>\n",
       "  </tbody>\n",
       "</table>\n",
       "</div>"
      ],
      "text/plain": [
       "   PREGNANCIES  GLUCOSE  BLOODPRESSURE  SKINTHICKNESS  INSULIN    BMI  DIABETESPEDIGREEFUNCTION  AGE  OUTCOME AGE_CAT GLUCOSE_LEVEL      BMI_LEVEL\n",
       "0            6  148.000         72.000         35.000  194.000 33.600                     0.627   50        1  mature          high        obesity\n",
       "1            1   85.000         66.000         29.000   66.000 26.600                     0.351   31        0   adult     very_poor     overweight\n",
       "2            8  183.000         64.000            NaN  194.000 23.300                     0.672   32        1   adult          high  normal weight\n",
       "3            1   89.000         66.000         23.000   94.000 28.100                     0.167   21        0   young     very_poor     overweight\n",
       "4            0  137.000         40.000         35.000  168.000 43.100                     2.288   33        1   adult        normal  super obesity\n",
       "5            5  116.000         74.000            NaN  110.000 25.600                     0.201   30        0   adult           low     overweight\n",
       "6            3   78.000         50.000         32.000   88.000 31.000                     0.248   26        1   adult     very_poor        obesity\n",
       "7           10  115.000            NaN            NaN  110.000 35.300                     0.134   29        0   adult           low        obesity"
      ]
     },
     "execution_count": 335,
     "metadata": {},
     "output_type": "execute_result"
    }
   ],
   "source": [
    "df[\"BMI_LEVEL\"] = pd.qcut(df[\"BMI\"], q=[0, 0.15, 0.4, 0.8, 1], labels=[\"normal weight\", \"overweight\", \"obesity\", \"super obesity\"])\n",
    "df.head(8)"
   ]
  },
  {
   "cell_type": "markdown",
   "id": "fd05587f-93bc-4842-8482-96bef06e52e3",
   "metadata": {},
   "source": [
    "##### BMI_LEVEL ---> SKINTHICKNESS NaN değişkenleri belirlenir"
   ]
  },
  {
   "cell_type": "code",
   "execution_count": 336,
   "id": "35ffbe8a-9ba9-4ac9-9ae3-49f6198a1281",
   "metadata": {},
   "outputs": [],
   "source": [
    "df[\"SKINTHICKNESS\"] = df[\"SKINTHICKNESS\"].fillna(df.groupby(\"BMI_LEVEL\")[\"SKINTHICKNESS\"].transform(\"median\"))"
   ]
  },
  {
   "cell_type": "code",
   "execution_count": 337,
   "id": "601dfdbe-d8e2-4958-8bf9-d0589efa2072",
   "metadata": {},
   "outputs": [
    {
     "name": "stdout",
     "output_type": "stream",
     "text": [
      "               n_miss  ratio\n",
      "BLOODPRESSURE      35  4.560\n"
     ]
    }
   ],
   "source": [
    "missing_values_table(df)"
   ]
  },
  {
   "cell_type": "markdown",
   "id": "9447f001-cbad-4b09-a68f-db3fcd36674e",
   "metadata": {},
   "source": [
    "BLOODPRESSURE'daki eksik değerlerin doldurulması için aralarındaki korelasyonu yüksek olan BMI değişkeni kullanılacaktır."
   ]
  },
  {
   "cell_type": "markdown",
   "id": "30358e83-4605-4df2-8e73-9be6550d3587",
   "metadata": {},
   "source": [
    "##### BMI_LEVEL ---> BLOODPRESSURE NaN değişkenleri belirlenir"
   ]
  },
  {
   "cell_type": "code",
   "execution_count": 338,
   "id": "0aa7396a-9669-4afe-b582-6b2ad8f08abc",
   "metadata": {},
   "outputs": [],
   "source": [
    "df[\"BLOODPRESSURE\"] = df[\"BLOODPRESSURE\"].fillna(df.groupby(\"BMI_LEVEL\")[\"BLOODPRESSURE\"].transform(\"median\"))"
   ]
  },
  {
   "cell_type": "code",
   "execution_count": 339,
   "id": "c49c9d76-e93c-4a9b-bb2b-00d9206b708b",
   "metadata": {},
   "outputs": [
    {
     "name": "stdout",
     "output_type": "stream",
     "text": [
      "Empty DataFrame\n",
      "Columns: [n_miss, ratio]\n",
      "Index: []\n"
     ]
    }
   ],
   "source": [
    "missing_values_table(df)"
   ]
  },
  {
   "cell_type": "markdown",
   "id": "757d0c72-aee1-45af-bc3e-4217a5e2df41",
   "metadata": {},
   "source": [
    "Hedef değişkenle anlamlı korelasyonu olabilecek BLOODPRESSURE değişkeni kategorize edilecektir."
   ]
  },
  {
   "cell_type": "code",
   "execution_count": 340,
   "id": "2879e31c-06d6-4215-93ef-3c58e64fc4e8",
   "metadata": {},
   "outputs": [
    {
     "data": {
      "text/plain": [
       "count   768.000\n",
       "mean     72.366\n",
       "std      12.126\n",
       "min      24.000\n",
       "25%      64.000\n",
       "50%      72.000\n",
       "75%      80.000\n",
       "max     122.000\n",
       "Name: BLOODPRESSURE, dtype: float64"
      ]
     },
     "execution_count": 340,
     "metadata": {},
     "output_type": "execute_result"
    }
   ],
   "source": [
    "df[\"BLOODPRESSURE\"].describe()"
   ]
  },
  {
   "cell_type": "code",
   "execution_count": 341,
   "id": "06a38a2d-ec72-49ef-8816-bba00c492e07",
   "metadata": {},
   "outputs": [
    {
     "data": {
      "image/png": "[encoded data removed]",
      "text/plain": [
       "<Figure size 432x288 with 1 Axes>"
      ]
     },
     "metadata": {
      "needs_background": "light"
     },
     "output_type": "display_data"
    }
   ],
   "source": [
    "sns.countplot(x=df[\"BLOODPRESSURE\"])\n",
    "plt.show()"
   ]
  },
  {
   "cell_type": "markdown",
   "id": "be505dca-3337-4ab2-8dc2-260a73a5a169",
   "metadata": {},
   "source": [
    "##### Kategorize edilmiş BLOODPRESSURE_LEVEL değişkeni"
   ]
  },
  {
   "cell_type": "code",
   "execution_count": 342,
   "id": "4f06cbbe-5768-4b02-8c42-c361542ae1f3",
   "metadata": {},
   "outputs": [
    {
     "data": {
      "text/html": [
       "<div>\n",
       "<style scoped>\n",
       "    .dataframe tbody tr th:only-of-type {\n",
       "        vertical-align: middle;\n",
       "    }\n",
       "\n",
       "    .dataframe tbody tr th {\n",
       "        vertical-align: top;\n",
       "    }\n",
       "\n",
       "    .dataframe thead th {\n",
       "        text-align: right;\n",
       "    }\n",
       "</style>\n",
       "<table border=\"1\" class=\"dataframe\">\n",
       "  <thead>\n",
       "    <tr style=\"text-align: right;\">\n",
       "      <th></th>\n",
       "      <th>PREGNANCIES</th>\n",
       "      <th>GLUCOSE</th>\n",
       "      <th>BLOODPRESSURE</th>\n",
       "      <th>SKINTHICKNESS</th>\n",
       "      <th>INSULIN</th>\n",
       "      <th>BMI</th>\n",
       "      <th>DIABETESPEDIGREEFUNCTION</th>\n",
       "      <th>AGE</th>\n",
       "      <th>OUTCOME</th>\n",
       "      <th>AGE_CAT</th>\n",
       "      <th>GLUCOSE_LEVEL</th>\n",
       "      <th>BMI_LEVEL</th>\n",
       "      <th>BLOODPRESSURE_LEVEL</th>\n",
       "    </tr>\n",
       "  </thead>\n",
       "  <tbody>\n",
       "    <tr>\n",
       "      <th>0</th>\n",
       "      <td>6</td>\n",
       "      <td>148.000</td>\n",
       "      <td>72.000</td>\n",
       "      <td>35.000</td>\n",
       "      <td>194.000</td>\n",
       "      <td>33.600</td>\n",
       "      <td>0.627</td>\n",
       "      <td>50</td>\n",
       "      <td>1</td>\n",
       "      <td>mature</td>\n",
       "      <td>high</td>\n",
       "      <td>obesity</td>\n",
       "      <td>optimal</td>\n",
       "    </tr>\n",
       "    <tr>\n",
       "      <th>1</th>\n",
       "      <td>1</td>\n",
       "      <td>85.000</td>\n",
       "      <td>66.000</td>\n",
       "      <td>29.000</td>\n",
       "      <td>66.000</td>\n",
       "      <td>26.600</td>\n",
       "      <td>0.351</td>\n",
       "      <td>31</td>\n",
       "      <td>0</td>\n",
       "      <td>adult</td>\n",
       "      <td>very_poor</td>\n",
       "      <td>overweight</td>\n",
       "      <td>optimal</td>\n",
       "    </tr>\n",
       "    <tr>\n",
       "      <th>2</th>\n",
       "      <td>8</td>\n",
       "      <td>183.000</td>\n",
       "      <td>64.000</td>\n",
       "      <td>18.000</td>\n",
       "      <td>194.000</td>\n",
       "      <td>23.300</td>\n",
       "      <td>0.672</td>\n",
       "      <td>32</td>\n",
       "      <td>1</td>\n",
       "      <td>adult</td>\n",
       "      <td>high</td>\n",
       "      <td>normal weight</td>\n",
       "      <td>optimal</td>\n",
       "    </tr>\n",
       "    <tr>\n",
       "      <th>3</th>\n",
       "      <td>1</td>\n",
       "      <td>89.000</td>\n",
       "      <td>66.000</td>\n",
       "      <td>23.000</td>\n",
       "      <td>94.000</td>\n",
       "      <td>28.100</td>\n",
       "      <td>0.167</td>\n",
       "      <td>21</td>\n",
       "      <td>0</td>\n",
       "      <td>young</td>\n",
       "      <td>very_poor</td>\n",
       "      <td>overweight</td>\n",
       "      <td>optimal</td>\n",
       "    </tr>\n",
       "    <tr>\n",
       "      <th>4</th>\n",
       "      <td>0</td>\n",
       "      <td>137.000</td>\n",
       "      <td>40.000</td>\n",
       "      <td>35.000</td>\n",
       "      <td>168.000</td>\n",
       "      <td>43.100</td>\n",
       "      <td>2.288</td>\n",
       "      <td>33</td>\n",
       "      <td>1</td>\n",
       "      <td>adult</td>\n",
       "      <td>normal</td>\n",
       "      <td>super obesity</td>\n",
       "      <td>optimal</td>\n",
       "    </tr>\n",
       "    <tr>\n",
       "      <th>5</th>\n",
       "      <td>5</td>\n",
       "      <td>116.000</td>\n",
       "      <td>74.000</td>\n",
       "      <td>23.000</td>\n",
       "      <td>110.000</td>\n",
       "      <td>25.600</td>\n",
       "      <td>0.201</td>\n",
       "      <td>30</td>\n",
       "      <td>0</td>\n",
       "      <td>adult</td>\n",
       "      <td>low</td>\n",
       "      <td>overweight</td>\n",
       "      <td>optimal</td>\n",
       "    </tr>\n",
       "    <tr>\n",
       "      <th>6</th>\n",
       "      <td>3</td>\n",
       "      <td>78.000</td>\n",
       "      <td>50.000</td>\n",
       "      <td>32.000</td>\n",
       "      <td>88.000</td>\n",
       "      <td>31.000</td>\n",
       "      <td>0.248</td>\n",
       "      <td>26</td>\n",
       "      <td>1</td>\n",
       "      <td>adult</td>\n",
       "      <td>very_poor</td>\n",
       "      <td>obesity</td>\n",
       "      <td>optimal</td>\n",
       "    </tr>\n",
       "    <tr>\n",
       "      <th>7</th>\n",
       "      <td>10</td>\n",
       "      <td>115.000</td>\n",
       "      <td>72.000</td>\n",
       "      <td>30.000</td>\n",
       "      <td>110.000</td>\n",
       "      <td>35.300</td>\n",
       "      <td>0.134</td>\n",
       "      <td>29</td>\n",
       "      <td>0</td>\n",
       "      <td>adult</td>\n",
       "      <td>low</td>\n",
       "      <td>obesity</td>\n",
       "      <td>optimal</td>\n",
       "    </tr>\n",
       "  </tbody>\n",
       "</table>\n",
       "</div>"
      ],
      "text/plain": [
       "   PREGNANCIES  GLUCOSE  BLOODPRESSURE  SKINTHICKNESS  INSULIN    BMI  DIABETESPEDIGREEFUNCTION  AGE  OUTCOME AGE_CAT GLUCOSE_LEVEL      BMI_LEVEL BLOODPRESSURE_LEVEL\n",
       "0            6  148.000         72.000         35.000  194.000 33.600                     0.627   50        1  mature          high        obesity             optimal\n",
       "1            1   85.000         66.000         29.000   66.000 26.600                     0.351   31        0   adult     very_poor     overweight             optimal\n",
       "2            8  183.000         64.000         18.000  194.000 23.300                     0.672   32        1   adult          high  normal weight             optimal\n",
       "3            1   89.000         66.000         23.000   94.000 28.100                     0.167   21        0   young     very_poor     overweight             optimal\n",
       "4            0  137.000         40.000         35.000  168.000 43.100                     2.288   33        1   adult        normal  super obesity             optimal\n",
       "5            5  116.000         74.000         23.000  110.000 25.600                     0.201   30        0   adult           low     overweight             optimal\n",
       "6            3   78.000         50.000         32.000   88.000 31.000                     0.248   26        1   adult     very_poor        obesity             optimal\n",
       "7           10  115.000         72.000         30.000  110.000 35.300                     0.134   29        0   adult           low        obesity             optimal"
      ]
     },
     "execution_count": 342,
     "metadata": {},
     "output_type": "execute_result"
    }
   ],
   "source": [
    "df[\"BLOODPRESSURE_LEVEL\"] = pd.qcut(df[\"BLOODPRESSURE\"], q=[0, 0.75, 0.85, 0.9, 1], labels=[\"optimal\",\"normal\", \"pre-hypertension\", \"hyperttension\"])\n",
    "df.head(8)"
   ]
  },
  {
   "cell_type": "code",
   "execution_count": 343,
   "id": "db1aebfc-a532-48bd-8436-202e894fff3f",
   "metadata": {},
   "outputs": [
    {
     "data": {
      "text/plain": [
       "(768, 13)"
      ]
     },
     "execution_count": 343,
     "metadata": {},
     "output_type": "execute_result"
    }
   ],
   "source": [
    "df.shape  # Başlangıçta 9 olan değişken sayısı 13'e yükseltildi."
   ]
  },
  {
   "cell_type": "code",
   "execution_count": 344,
   "id": "c339e554-d820-4049-aa06-fe866993db2b",
   "metadata": {},
   "outputs": [
    {
     "name": "stdout",
     "output_type": "stream",
     "text": [
      "Observations: 768\n",
      "Variables: 13\n",
      "cat_cols: 5\n",
      "num_cols: 8\n",
      "cat_but_car: 0\n",
      "num_but_cat: 4\n",
      "\n",
      "cat_cols: ['AGE_CAT', 'OUTCOME', 'GLUCOSE_LEVEL', 'BMI_LEVEL', 'BLOODPRESSURE_LEVEL']\n",
      "num_cols: ['PREGNANCIES', 'GLUCOSE', 'BLOODPRESSURE', 'SKINTHICKNESS', 'INSULIN', 'BMI', 'DIABETESPEDIGREEFUNCTION', 'AGE']\n",
      "cat_but_car: []\n"
     ]
    }
   ],
   "source": [
    "cat_cols, num_cols, cat_but_car = grab_col_names(df)"
   ]
  },
  {
   "cell_type": "code",
   "execution_count": 345,
   "id": "a59cc4b0-3fac-4d0e-a85c-9e5e84348f18",
   "metadata": {},
   "outputs": [
    {
     "name": "stdout",
     "output_type": "stream",
     "text": [
      "PREGNANCIES True\n",
      "GLUCOSE False\n",
      "BLOODPRESSURE True\n",
      "SKINTHICKNESS True\n",
      "INSULIN True\n",
      "BMI True\n",
      "DIABETESPEDIGREEFUNCTION True\n",
      "AGE True\n"
     ]
    }
   ],
   "source": [
    "for col in num_cols:   # Yeni eklenen değişkenler sonrası değiken bazında aykırı değerler.\n",
    "    print(col, check_outlier(df, col))"
   ]
  },
  {
   "cell_type": "code",
   "execution_count": 346,
   "id": "ad164f94-9a9e-4d6e-ab26-4df9fde1a370",
   "metadata": {},
   "outputs": [],
   "source": [
    "def replace_with_thresholds(dataframe, variable):\n",
    "    low_limit, up_limit = outlier_thresholds(dataframe, variable)\n",
    "    dataframe.loc[(dataframe[variable] < low_limit), variable] = low_limit\n",
    "    dataframe.loc[(dataframe[variable] > up_limit), variable] = up_limit"
   ]
  },
  {
   "cell_type": "markdown",
   "id": "71b2e483-02fa-4e4d-801a-c32b0f7a5a04",
   "metadata": {},
   "source": [
    "Yapılan değişiklikler sonrası aykırı değerler kontrolü"
   ]
  },
  {
   "cell_type": "code",
   "execution_count": 347,
   "id": "ed978721-c3bb-4c42-baeb-4512ea6de8f3",
   "metadata": {},
   "outputs": [],
   "source": [
    "for col in num_cols:      # Aykırı değerler eşik değerlerle değiştirildi.\n",
    "    replace_with_thresholds(df, col)"
   ]
  },
  {
   "cell_type": "code",
   "execution_count": 348,
   "id": "23584d9c-e680-418a-a90d-b37d5d41c2b6",
   "metadata": {},
   "outputs": [
    {
     "name": "stdout",
     "output_type": "stream",
     "text": [
      "PREGNANCIES False\n",
      "GLUCOSE False\n",
      "BLOODPRESSURE False\n",
      "SKINTHICKNESS False\n",
      "INSULIN False\n",
      "BMI False\n",
      "DIABETESPEDIGREEFUNCTION False\n",
      "AGE False\n"
     ]
    }
   ],
   "source": [
    "for col in num_cols:   # Eşik değer değişimi sonrası aykırı değerler durumu\n",
    "    print(col, check_outlier(df, col))"
   ]
  },
  {
   "cell_type": "code",
   "execution_count": 349,
   "id": "d7fae70b-0b68-4348-a7d6-10fe1c46141d",
   "metadata": {},
   "outputs": [
    {
     "name": "stdout",
     "output_type": "stream",
     "text": [
      "Empty DataFrame\n",
      "Columns: [n_miss, ratio]\n",
      "Index: []\n"
     ]
    }
   ],
   "source": [
    "missing_values_table(df)   # Yeni eklenen değişkenler sonrası değiken bazında missing value'lar."
   ]
  },
  {
   "cell_type": "markdown",
   "id": "ca88aa21-45d7-4ba7-bf66-ac57e5008a46",
   "metadata": {},
   "source": [
    "#### Adım 3: Encoding işlemlerini gerçekleştiriniz."
   ]
  },
  {
   "cell_type": "markdown",
   "id": "5d809bd2-fc66-47e2-92d3-cbec14023faa",
   "metadata": {},
   "source": [
    "##### Label Encoder"
   ]
  },
  {
   "cell_type": "code",
   "execution_count": 350,
   "id": "e7bb7b1c-f0a5-4b3d-b8d7-efa1a32279e1",
   "metadata": {},
   "outputs": [
    {
     "data": {
      "text/plain": [
       "[]"
      ]
     },
     "execution_count": 350,
     "metadata": {},
     "output_type": "execute_result"
    }
   ],
   "source": [
    "[col for col in df.columns if df[col].dtype not in [\"int64\", \"float64\"]  # Label Encoder yapmak için herhangi bir değişken yok.\n",
    "               and df[col].nunique() == 2]"
   ]
  },
  {
   "cell_type": "markdown",
   "id": "c40ebdf0-3a6f-48d0-a434-09a6f88faf12",
   "metadata": {},
   "source": [
    "##### Rare Encoder"
   ]
  },
  {
   "cell_type": "code",
   "execution_count": 351,
   "id": "0b4f85f9-d659-403d-82c0-32e3d755952c",
   "metadata": {},
   "outputs": [],
   "source": [
    "def rare_analyser(dataframe, target, cat_cols):\n",
    "    for col in cat_cols:\n",
    "        print(col, \":\", len(dataframe[col].value_counts()))\n",
    "        print(pd.DataFrame({\"COUNT\": dataframe[col].value_counts(),\n",
    "                            \"RATIO\": dataframe[col].value_counts() / len(dataframe),\n",
    "                            \"TARGET_MEAN\": dataframe.groupby(col)[target].mean()}), end=\"\\n\\n\\n\")"
   ]
  },
  {
   "cell_type": "code",
   "execution_count": 352,
   "id": "08193244-6178-4cf4-a9ec-26029ec4bd47",
   "metadata": {},
   "outputs": [
    {
     "name": "stdout",
     "output_type": "stream",
     "text": [
      "AGE_CAT : 4\n",
      "        COUNT  RATIO  TARGET_MEAN\n",
      "adult     363  0.473        0.317\n",
      "mature    220  0.286        0.545\n",
      "senior     50  0.065        0.340\n",
      "young     135  0.176        0.119\n",
      "\n",
      "\n",
      "OUTCOME : 2\n",
      "   COUNT  RATIO  TARGET_MEAN\n",
      "0    500  0.651            0\n",
      "1    268  0.349            1\n",
      "\n",
      "\n",
      "GLUCOSE_LEVEL : 4\n",
      "           COUNT  RATIO  TARGET_MEAN\n",
      "very_poor    192  0.250        0.073\n",
      "low          194  0.253        0.247\n",
      "normal       190  0.247        0.389\n",
      "high         192  0.250        0.688\n",
      "\n",
      "\n",
      "BMI_LEVEL : 4\n",
      "               COUNT  RATIO  TARGET_MEAN\n",
      "normal weight    121  0.158        0.066\n",
      "overweight       189  0.246        0.270\n",
      "obesity          306  0.398        0.428\n",
      "super obesity    152  0.198        0.513\n",
      "\n",
      "\n",
      "BLOODPRESSURE_LEVEL : 4\n",
      "                  COUNT  RATIO  TARGET_MEAN\n",
      "optimal             603  0.785        0.317\n",
      "normal               53  0.069        0.472\n",
      "pre-hypertension     52  0.068        0.442\n",
      "hyperttension        60  0.078        0.483\n",
      "\n",
      "\n"
     ]
    }
   ],
   "source": [
    "rare_analyser(df, \"OUTCOME\", cat_cols)"
   ]
  },
  {
   "cell_type": "markdown",
   "id": "cad01ff9-834d-4149-9d06-4900e6fcf62c",
   "metadata": {},
   "source": [
    "Yeni türetilmiş değişkenlerin, veri setindeki dağılımları iyi. Bu sebeple, rare encoding yapılmayacaktır."
   ]
  },
  {
   "cell_type": "markdown",
   "id": "f8dcc389-ad9b-43a8-827e-7847977ebd90",
   "metadata": {},
   "source": [
    "##### One Hot Encoding"
   ]
  },
  {
   "cell_type": "code",
   "execution_count": 353,
   "id": "15e3f01a-185f-4d8f-9888-94c0b31ab09e",
   "metadata": {},
   "outputs": [
    {
     "data": {
      "text/plain": [
       "['AGE_CAT', 'GLUCOSE_LEVEL', 'BMI_LEVEL', 'BLOODPRESSURE_LEVEL']"
      ]
     },
     "execution_count": 353,
     "metadata": {},
     "output_type": "execute_result"
    }
   ],
   "source": [
    "ohe_cols = [col for col in df.columns if 10 >= df[col].nunique() > 2]  # One-Hot encoding için uygun değişkenler\n",
    "ohe_cols"
   ]
  },
  {
   "cell_type": "code",
   "execution_count": 354,
   "id": "dfe962a8-2975-4569-851e-cee62c6c664c",
   "metadata": {},
   "outputs": [],
   "source": [
    "def one_hot_encoder(dataframe, categorical_cols, drop_first=True):\n",
    "    dataframe = pd.get_dummies(dataframe, columns=categorical_cols, drop_first=drop_first)\n",
    "    return dataframe"
   ]
  },
  {
   "cell_type": "code",
   "execution_count": 355,
   "id": "9e088031-3248-4f93-814a-9d11730036e7",
   "metadata": {},
   "outputs": [],
   "source": [
    "df = one_hot_encoder(df, ohe_cols)"
   ]
  },
  {
   "cell_type": "code",
   "execution_count": 356,
   "id": "770c43b8-188c-4a15-bd03-ca04c7720a1e",
   "metadata": {},
   "outputs": [
    {
     "data": {
      "text/html": [
       "<div>\n",
       "<style scoped>\n",
       "    .dataframe tbody tr th:only-of-type {\n",
       "        vertical-align: middle;\n",
       "    }\n",
       "\n",
       "    .dataframe tbody tr th {\n",
       "        vertical-align: top;\n",
       "    }\n",
       "\n",
       "    .dataframe thead th {\n",
       "        text-align: right;\n",
       "    }\n",
       "</style>\n",
       "<table border=\"1\" class=\"dataframe\">\n",
       "  <thead>\n",
       "    <tr style=\"text-align: right;\">\n",
       "      <th></th>\n",
       "      <th>PREGNANCIES</th>\n",
       "      <th>GLUCOSE</th>\n",
       "      <th>BLOODPRESSURE</th>\n",
       "      <th>SKINTHICKNESS</th>\n",
       "      <th>INSULIN</th>\n",
       "      <th>BMI</th>\n",
       "      <th>DIABETESPEDIGREEFUNCTION</th>\n",
       "      <th>AGE</th>\n",
       "      <th>OUTCOME</th>\n",
       "      <th>AGE_CAT_mature</th>\n",
       "      <th>AGE_CAT_senior</th>\n",
       "      <th>AGE_CAT_young</th>\n",
       "      <th>GLUCOSE_LEVEL_low</th>\n",
       "      <th>GLUCOSE_LEVEL_normal</th>\n",
       "      <th>GLUCOSE_LEVEL_high</th>\n",
       "      <th>BMI_LEVEL_overweight</th>\n",
       "      <th>BMI_LEVEL_obesity</th>\n",
       "      <th>BMI_LEVEL_super obesity</th>\n",
       "      <th>BLOODPRESSURE_LEVEL_normal</th>\n",
       "      <th>BLOODPRESSURE_LEVEL_pre-hypertension</th>\n",
       "      <th>BLOODPRESSURE_LEVEL_hyperttension</th>\n",
       "    </tr>\n",
       "  </thead>\n",
       "  <tbody>\n",
       "    <tr>\n",
       "      <th>0</th>\n",
       "      <td>6.000</td>\n",
       "      <td>148.000</td>\n",
       "      <td>72.000</td>\n",
       "      <td>35.000</td>\n",
       "      <td>194.000</td>\n",
       "      <td>33.600</td>\n",
       "      <td>0.627</td>\n",
       "      <td>50.000</td>\n",
       "      <td>1</td>\n",
       "      <td>1</td>\n",
       "      <td>0</td>\n",
       "      <td>0</td>\n",
       "      <td>0</td>\n",
       "      <td>0</td>\n",
       "      <td>1</td>\n",
       "      <td>0</td>\n",
       "      <td>1</td>\n",
       "      <td>0</td>\n",
       "      <td>0</td>\n",
       "      <td>0</td>\n",
       "      <td>0</td>\n",
       "    </tr>\n",
       "    <tr>\n",
       "      <th>1</th>\n",
       "      <td>1.000</td>\n",
       "      <td>85.000</td>\n",
       "      <td>66.000</td>\n",
       "      <td>29.000</td>\n",
       "      <td>66.000</td>\n",
       "      <td>26.600</td>\n",
       "      <td>0.351</td>\n",
       "      <td>31.000</td>\n",
       "      <td>0</td>\n",
       "      <td>0</td>\n",
       "      <td>0</td>\n",
       "      <td>0</td>\n",
       "      <td>0</td>\n",
       "      <td>0</td>\n",
       "      <td>0</td>\n",
       "      <td>1</td>\n",
       "      <td>0</td>\n",
       "      <td>0</td>\n",
       "      <td>0</td>\n",
       "      <td>0</td>\n",
       "      <td>0</td>\n",
       "    </tr>\n",
       "    <tr>\n",
       "      <th>2</th>\n",
       "      <td>8.000</td>\n",
       "      <td>183.000</td>\n",
       "      <td>64.000</td>\n",
       "      <td>18.000</td>\n",
       "      <td>194.000</td>\n",
       "      <td>23.300</td>\n",
       "      <td>0.672</td>\n",
       "      <td>32.000</td>\n",
       "      <td>1</td>\n",
       "      <td>0</td>\n",
       "      <td>0</td>\n",
       "      <td>0</td>\n",
       "      <td>0</td>\n",
       "      <td>0</td>\n",
       "      <td>1</td>\n",
       "      <td>0</td>\n",
       "      <td>0</td>\n",
       "      <td>0</td>\n",
       "      <td>0</td>\n",
       "      <td>0</td>\n",
       "      <td>0</td>\n",
       "    </tr>\n",
       "    <tr>\n",
       "      <th>3</th>\n",
       "      <td>1.000</td>\n",
       "      <td>89.000</td>\n",
       "      <td>66.000</td>\n",
       "      <td>23.000</td>\n",
       "      <td>94.000</td>\n",
       "      <td>28.100</td>\n",
       "      <td>0.167</td>\n",
       "      <td>21.000</td>\n",
       "      <td>0</td>\n",
       "      <td>0</td>\n",
       "      <td>0</td>\n",
       "      <td>1</td>\n",
       "      <td>0</td>\n",
       "      <td>0</td>\n",
       "      <td>0</td>\n",
       "      <td>1</td>\n",
       "      <td>0</td>\n",
       "      <td>0</td>\n",
       "      <td>0</td>\n",
       "      <td>0</td>\n",
       "      <td>0</td>\n",
       "    </tr>\n",
       "    <tr>\n",
       "      <th>4</th>\n",
       "      <td>0.000</td>\n",
       "      <td>137.000</td>\n",
       "      <td>40.000</td>\n",
       "      <td>35.000</td>\n",
       "      <td>168.000</td>\n",
       "      <td>43.100</td>\n",
       "      <td>1.200</td>\n",
       "      <td>33.000</td>\n",
       "      <td>1</td>\n",
       "      <td>0</td>\n",
       "      <td>0</td>\n",
       "      <td>0</td>\n",
       "      <td>0</td>\n",
       "      <td>1</td>\n",
       "      <td>0</td>\n",
       "      <td>0</td>\n",
       "      <td>0</td>\n",
       "      <td>1</td>\n",
       "      <td>0</td>\n",
       "      <td>0</td>\n",
       "      <td>0</td>\n",
       "    </tr>\n",
       "  </tbody>\n",
       "</table>\n",
       "</div>"
      ],
      "text/plain": [
       "   PREGNANCIES  GLUCOSE  BLOODPRESSURE  SKINTHICKNESS  INSULIN    BMI  DIABETESPEDIGREEFUNCTION    AGE  OUTCOME  AGE_CAT_mature  AGE_CAT_senior  AGE_CAT_young  GLUCOSE_LEVEL_low  GLUCOSE_LEVEL_normal  GLUCOSE_LEVEL_high  BMI_LEVEL_overweight  BMI_LEVEL_obesity  BMI_LEVEL_super obesity  BLOODPRESSURE_LEVEL_normal  BLOODPRESSURE_LEVEL_pre-hypertension  BLOODPRESSURE_LEVEL_hyperttension\n",
       "0        6.000  148.000         72.000         35.000  194.000 33.600                     0.627 50.000        1               1               0              0                  0                     0                   1                     0                  1                        0                           0                                     0                                  0\n",
       "1        1.000   85.000         66.000         29.000   66.000 26.600                     0.351 31.000        0               0               0              0                  0                     0                   0                     1                  0                        0                           0                                     0                                  0\n",
       "2        8.000  183.000         64.000         18.000  194.000 23.300                     0.672 32.000        1               0               0              0                  0                     0                   1                     0                  0                        0                           0                                     0                                  0\n",
       "3        1.000   89.000         66.000         23.000   94.000 28.100                     0.167 21.000        0               0               0              1                  0                     0                   0                     1                  0                        0                           0                                     0                                  0\n",
       "4        0.000  137.000         40.000         35.000  168.000 43.100                     1.200 33.000        1               0               0              0                  0                     1                   0                     0                  0                        1                           0                                     0                                  0"
      ]
     },
     "execution_count": 356,
     "metadata": {},
     "output_type": "execute_result"
    }
   ],
   "source": [
    "df.head()"
   ]
  },
  {
   "cell_type": "code",
   "execution_count": 357,
   "id": "a3974a07-6422-44fb-9d64-bc7a45dccbe1",
   "metadata": {},
   "outputs": [
    {
     "data": {
      "text/plain": [
       "(768, 21)"
      ]
     },
     "execution_count": 357,
     "metadata": {},
     "output_type": "execute_result"
    }
   ],
   "source": [
    "df.shape"
   ]
  },
  {
   "cell_type": "code",
   "execution_count": 358,
   "id": "0adcef82-76ae-4f3e-b9b3-ee63b9139f82",
   "metadata": {},
   "outputs": [
    {
     "name": "stdout",
     "output_type": "stream",
     "text": [
      "Observations: 768\n",
      "Variables: 21\n",
      "cat_cols: 13\n",
      "num_cols: 8\n",
      "cat_but_car: 0\n",
      "num_but_cat: 13\n",
      "\n",
      "cat_cols: ['OUTCOME', 'AGE_CAT_mature', 'AGE_CAT_senior', 'AGE_CAT_young', 'GLUCOSE_LEVEL_low', 'GLUCOSE_LEVEL_normal', 'GLUCOSE_LEVEL_high', 'BMI_LEVEL_overweight', 'BMI_LEVEL_obesity', 'BMI_LEVEL_super obesity', 'BLOODPRESSURE_LEVEL_normal', 'BLOODPRESSURE_LEVEL_pre-hypertension', 'BLOODPRESSURE_LEVEL_hyperttension']\n",
      "num_cols: ['PREGNANCIES', 'GLUCOSE', 'BLOODPRESSURE', 'SKINTHICKNESS', 'INSULIN', 'BMI', 'DIABETESPEDIGREEFUNCTION', 'AGE']\n",
      "cat_but_car: []\n"
     ]
    }
   ],
   "source": [
    "cat_cols, num_cols, cat_but_car = grab_col_names(df)"
   ]
  },
  {
   "cell_type": "code",
   "execution_count": 359,
   "id": "090bfc7c-3cc9-4beb-a8c1-3bcd71654b43",
   "metadata": {
    "tags": []
   },
   "outputs": [
    {
     "name": "stdout",
     "output_type": "stream",
     "text": [
      "OUTCOME : 2\n",
      "   COUNT  RATIO  TARGET_MEAN\n",
      "0    500  0.651            0\n",
      "1    268  0.349            1\n",
      "\n",
      "\n",
      "AGE_CAT_mature : 2\n",
      "   COUNT  RATIO  TARGET_MEAN\n",
      "0    548  0.714        0.270\n",
      "1    220  0.286        0.545\n",
      "\n",
      "\n",
      "AGE_CAT_senior : 2\n",
      "   COUNT  RATIO  TARGET_MEAN\n",
      "0    718  0.935        0.350\n",
      "1     50  0.065        0.340\n",
      "\n",
      "\n",
      "AGE_CAT_young : 2\n",
      "   COUNT  RATIO  TARGET_MEAN\n",
      "0    633  0.824        0.398\n",
      "1    135  0.176        0.119\n",
      "\n",
      "\n",
      "GLUCOSE_LEVEL_low : 2\n",
      "   COUNT  RATIO  TARGET_MEAN\n",
      "0    574  0.747        0.383\n",
      "1    194  0.253        0.247\n",
      "\n",
      "\n",
      "GLUCOSE_LEVEL_normal : 2\n",
      "   COUNT  RATIO  TARGET_MEAN\n",
      "0    578  0.753        0.336\n",
      "1    190  0.247        0.389\n",
      "\n",
      "\n",
      "GLUCOSE_LEVEL_high : 2\n",
      "   COUNT  RATIO  TARGET_MEAN\n",
      "0    576  0.750        0.236\n",
      "1    192  0.250        0.688\n",
      "\n",
      "\n",
      "BMI_LEVEL_overweight : 2\n",
      "   COUNT  RATIO  TARGET_MEAN\n",
      "0    579  0.754        0.375\n",
      "1    189  0.246        0.270\n",
      "\n",
      "\n",
      "BMI_LEVEL_obesity : 2\n",
      "   COUNT  RATIO  TARGET_MEAN\n",
      "0    462  0.602        0.297\n",
      "1    306  0.398        0.428\n",
      "\n",
      "\n",
      "BMI_LEVEL_super obesity : 2\n",
      "   COUNT  RATIO  TARGET_MEAN\n",
      "0    616  0.802        0.308\n",
      "1    152  0.198        0.513\n",
      "\n",
      "\n",
      "BLOODPRESSURE_LEVEL_normal : 2\n",
      "   COUNT  RATIO  TARGET_MEAN\n",
      "0    715  0.931        0.340\n",
      "1     53  0.069        0.472\n",
      "\n",
      "\n",
      "BLOODPRESSURE_LEVEL_pre-hypertension : 2\n",
      "   COUNT  RATIO  TARGET_MEAN\n",
      "0    716  0.932        0.342\n",
      "1     52  0.068        0.442\n",
      "\n",
      "\n",
      "BLOODPRESSURE_LEVEL_hyperttension : 2\n",
      "   COUNT  RATIO  TARGET_MEAN\n",
      "0    708  0.922        0.338\n",
      "1     60  0.078        0.483\n",
      "\n",
      "\n"
     ]
    }
   ],
   "source": [
    "rare_analyser(df, \"OUTCOME\", cat_cols)"
   ]
  },
  {
   "cell_type": "markdown",
   "id": "a3c3a38e-7488-4594-990d-d2521862bd1f",
   "metadata": {},
   "source": [
    "#### Adım 4: Numerik değişkenler için standartlaştırma yapınız. "
   ]
  },
  {
   "cell_type": "code",
   "execution_count": 360,
   "id": "12578dd7-ab42-4f0b-bb82-6aa177a91134",
   "metadata": {},
   "outputs": [
    {
     "data": {
      "text/plain": [
       "['PREGNANCIES',\n",
       " 'GLUCOSE',\n",
       " 'BLOODPRESSURE',\n",
       " 'SKINTHICKNESS',\n",
       " 'INSULIN',\n",
       " 'BMI',\n",
       " 'DIABETESPEDIGREEFUNCTION',\n",
       " 'AGE']"
      ]
     },
     "execution_count": 360,
     "metadata": {},
     "output_type": "execute_result"
    }
   ],
   "source": [
    "num_cols"
   ]
  },
  {
   "cell_type": "code",
   "execution_count": 361,
   "id": "c325fb4f-21e9-4b70-b5a5-c4d05c6915e9",
   "metadata": {},
   "outputs": [],
   "source": [
    "scaler = StandardScaler()\n",
    "df[num_cols] = scaler.fit_transform(df[num_cols])"
   ]
  },
  {
   "cell_type": "code",
   "execution_count": 362,
   "id": "edd00c71-ac40-48fa-955f-6a5b7d3dab2d",
   "metadata": {},
   "outputs": [
    {
     "data": {
      "text/html": [
       "<div>\n",
       "<style scoped>\n",
       "    .dataframe tbody tr th:only-of-type {\n",
       "        vertical-align: middle;\n",
       "    }\n",
       "\n",
       "    .dataframe tbody tr th {\n",
       "        vertical-align: top;\n",
       "    }\n",
       "\n",
       "    .dataframe thead th {\n",
       "        text-align: right;\n",
       "    }\n",
       "</style>\n",
       "<table border=\"1\" class=\"dataframe\">\n",
       "  <thead>\n",
       "    <tr style=\"text-align: right;\">\n",
       "      <th></th>\n",
       "      <th>PREGNANCIES</th>\n",
       "      <th>GLUCOSE</th>\n",
       "      <th>BLOODPRESSURE</th>\n",
       "      <th>SKINTHICKNESS</th>\n",
       "      <th>INSULIN</th>\n",
       "      <th>BMI</th>\n",
       "      <th>DIABETESPEDIGREEFUNCTION</th>\n",
       "      <th>AGE</th>\n",
       "    </tr>\n",
       "  </thead>\n",
       "  <tbody>\n",
       "    <tr>\n",
       "      <th>0</th>\n",
       "      <td>0.647</td>\n",
       "      <td>0.865</td>\n",
       "      <td>-0.029</td>\n",
       "      <td>0.701</td>\n",
       "      <td>0.795</td>\n",
       "      <td>0.181</td>\n",
       "      <td>0.589</td>\n",
       "      <td>1.446</td>\n",
       "    </tr>\n",
       "    <tr>\n",
       "      <th>1</th>\n",
       "      <td>-0.849</td>\n",
       "      <td>-1.206</td>\n",
       "      <td>-0.541</td>\n",
       "      <td>0.053</td>\n",
       "      <td>-1.007</td>\n",
       "      <td>-0.870</td>\n",
       "      <td>-0.378</td>\n",
       "      <td>-0.189</td>\n",
       "    </tr>\n",
       "    <tr>\n",
       "      <th>2</th>\n",
       "      <td>1.246</td>\n",
       "      <td>2.016</td>\n",
       "      <td>-0.711</td>\n",
       "      <td>-1.134</td>\n",
       "      <td>0.795</td>\n",
       "      <td>-1.365</td>\n",
       "      <td>0.747</td>\n",
       "      <td>-0.103</td>\n",
       "    </tr>\n",
       "    <tr>\n",
       "      <th>3</th>\n",
       "      <td>-0.849</td>\n",
       "      <td>-1.075</td>\n",
       "      <td>-0.541</td>\n",
       "      <td>-0.595</td>\n",
       "      <td>-0.613</td>\n",
       "      <td>-0.645</td>\n",
       "      <td>-1.023</td>\n",
       "      <td>-1.050</td>\n",
       "    </tr>\n",
       "    <tr>\n",
       "      <th>4</th>\n",
       "      <td>-1.148</td>\n",
       "      <td>0.503</td>\n",
       "      <td>-2.759</td>\n",
       "      <td>0.701</td>\n",
       "      <td>0.429</td>\n",
       "      <td>1.607</td>\n",
       "      <td>2.597</td>\n",
       "      <td>-0.017</td>\n",
       "    </tr>\n",
       "  </tbody>\n",
       "</table>\n",
       "</div>"
      ],
      "text/plain": [
       "   PREGNANCIES  GLUCOSE  BLOODPRESSURE  SKINTHICKNESS  INSULIN    BMI  DIABETESPEDIGREEFUNCTION    AGE\n",
       "0        0.647    0.865         -0.029          0.701    0.795  0.181                     0.589  1.446\n",
       "1       -0.849   -1.206         -0.541          0.053   -1.007 -0.870                    -0.378 -0.189\n",
       "2        1.246    2.016         -0.711         -1.134    0.795 -1.365                     0.747 -0.103\n",
       "3       -0.849   -1.075         -0.541         -0.595   -0.613 -0.645                    -1.023 -1.050\n",
       "4       -1.148    0.503         -2.759          0.701    0.429  1.607                     2.597 -0.017"
      ]
     },
     "execution_count": 362,
     "metadata": {},
     "output_type": "execute_result"
    }
   ],
   "source": [
    "df[num_cols].head()"
   ]
  },
  {
   "cell_type": "code",
   "execution_count": 363,
   "id": "58def451-e1f8-4573-b0f9-0c3bce83bee2",
   "metadata": {},
   "outputs": [
    {
     "data": {
      "text/html": [
       "<div>\n",
       "<style scoped>\n",
       "    .dataframe tbody tr th:only-of-type {\n",
       "        vertical-align: middle;\n",
       "    }\n",
       "\n",
       "    .dataframe tbody tr th {\n",
       "        vertical-align: top;\n",
       "    }\n",
       "\n",
       "    .dataframe thead th {\n",
       "        text-align: right;\n",
       "    }\n",
       "</style>\n",
       "<table border=\"1\" class=\"dataframe\">\n",
       "  <thead>\n",
       "    <tr style=\"text-align: right;\">\n",
       "      <th></th>\n",
       "      <th>PREGNANCIES</th>\n",
       "      <th>GLUCOSE</th>\n",
       "      <th>BLOODPRESSURE</th>\n",
       "      <th>SKINTHICKNESS</th>\n",
       "      <th>INSULIN</th>\n",
       "      <th>BMI</th>\n",
       "      <th>DIABETESPEDIGREEFUNCTION</th>\n",
       "      <th>AGE</th>\n",
       "      <th>OUTCOME</th>\n",
       "      <th>AGE_CAT_mature</th>\n",
       "      <th>AGE_CAT_senior</th>\n",
       "      <th>AGE_CAT_young</th>\n",
       "      <th>GLUCOSE_LEVEL_low</th>\n",
       "      <th>GLUCOSE_LEVEL_normal</th>\n",
       "      <th>GLUCOSE_LEVEL_high</th>\n",
       "      <th>BMI_LEVEL_overweight</th>\n",
       "      <th>BMI_LEVEL_obesity</th>\n",
       "      <th>BMI_LEVEL_super obesity</th>\n",
       "      <th>BLOODPRESSURE_LEVEL_normal</th>\n",
       "      <th>BLOODPRESSURE_LEVEL_pre-hypertension</th>\n",
       "      <th>BLOODPRESSURE_LEVEL_hyperttension</th>\n",
       "    </tr>\n",
       "  </thead>\n",
       "  <tbody>\n",
       "    <tr>\n",
       "      <th>0</th>\n",
       "      <td>0.647</td>\n",
       "      <td>0.865</td>\n",
       "      <td>-0.029</td>\n",
       "      <td>0.701</td>\n",
       "      <td>0.795</td>\n",
       "      <td>0.181</td>\n",
       "      <td>0.589</td>\n",
       "      <td>1.446</td>\n",
       "      <td>1</td>\n",
       "      <td>1</td>\n",
       "      <td>0</td>\n",
       "      <td>0</td>\n",
       "      <td>0</td>\n",
       "      <td>0</td>\n",
       "      <td>1</td>\n",
       "      <td>0</td>\n",
       "      <td>1</td>\n",
       "      <td>0</td>\n",
       "      <td>0</td>\n",
       "      <td>0</td>\n",
       "      <td>0</td>\n",
       "    </tr>\n",
       "    <tr>\n",
       "      <th>1</th>\n",
       "      <td>-0.849</td>\n",
       "      <td>-1.206</td>\n",
       "      <td>-0.541</td>\n",
       "      <td>0.053</td>\n",
       "      <td>-1.007</td>\n",
       "      <td>-0.870</td>\n",
       "      <td>-0.378</td>\n",
       "      <td>-0.189</td>\n",
       "      <td>0</td>\n",
       "      <td>0</td>\n",
       "      <td>0</td>\n",
       "      <td>0</td>\n",
       "      <td>0</td>\n",
       "      <td>0</td>\n",
       "      <td>0</td>\n",
       "      <td>1</td>\n",
       "      <td>0</td>\n",
       "      <td>0</td>\n",
       "      <td>0</td>\n",
       "      <td>0</td>\n",
       "      <td>0</td>\n",
       "    </tr>\n",
       "    <tr>\n",
       "      <th>2</th>\n",
       "      <td>1.246</td>\n",
       "      <td>2.016</td>\n",
       "      <td>-0.711</td>\n",
       "      <td>-1.134</td>\n",
       "      <td>0.795</td>\n",
       "      <td>-1.365</td>\n",
       "      <td>0.747</td>\n",
       "      <td>-0.103</td>\n",
       "      <td>1</td>\n",
       "      <td>0</td>\n",
       "      <td>0</td>\n",
       "      <td>0</td>\n",
       "      <td>0</td>\n",
       "      <td>0</td>\n",
       "      <td>1</td>\n",
       "      <td>0</td>\n",
       "      <td>0</td>\n",
       "      <td>0</td>\n",
       "      <td>0</td>\n",
       "      <td>0</td>\n",
       "      <td>0</td>\n",
       "    </tr>\n",
       "    <tr>\n",
       "      <th>3</th>\n",
       "      <td>-0.849</td>\n",
       "      <td>-1.075</td>\n",
       "      <td>-0.541</td>\n",
       "      <td>-0.595</td>\n",
       "      <td>-0.613</td>\n",
       "      <td>-0.645</td>\n",
       "      <td>-1.023</td>\n",
       "      <td>-1.050</td>\n",
       "      <td>0</td>\n",
       "      <td>0</td>\n",
       "      <td>0</td>\n",
       "      <td>1</td>\n",
       "      <td>0</td>\n",
       "      <td>0</td>\n",
       "      <td>0</td>\n",
       "      <td>1</td>\n",
       "      <td>0</td>\n",
       "      <td>0</td>\n",
       "      <td>0</td>\n",
       "      <td>0</td>\n",
       "      <td>0</td>\n",
       "    </tr>\n",
       "    <tr>\n",
       "      <th>4</th>\n",
       "      <td>-1.148</td>\n",
       "      <td>0.503</td>\n",
       "      <td>-2.759</td>\n",
       "      <td>0.701</td>\n",
       "      <td>0.429</td>\n",
       "      <td>1.607</td>\n",
       "      <td>2.597</td>\n",
       "      <td>-0.017</td>\n",
       "      <td>1</td>\n",
       "      <td>0</td>\n",
       "      <td>0</td>\n",
       "      <td>0</td>\n",
       "      <td>0</td>\n",
       "      <td>1</td>\n",
       "      <td>0</td>\n",
       "      <td>0</td>\n",
       "      <td>0</td>\n",
       "      <td>1</td>\n",
       "      <td>0</td>\n",
       "      <td>0</td>\n",
       "      <td>0</td>\n",
       "    </tr>\n",
       "  </tbody>\n",
       "</table>\n",
       "</div>"
      ],
      "text/plain": [
       "   PREGNANCIES  GLUCOSE  BLOODPRESSURE  SKINTHICKNESS  INSULIN    BMI  DIABETESPEDIGREEFUNCTION    AGE  OUTCOME  AGE_CAT_mature  AGE_CAT_senior  AGE_CAT_young  GLUCOSE_LEVEL_low  GLUCOSE_LEVEL_normal  GLUCOSE_LEVEL_high  BMI_LEVEL_overweight  BMI_LEVEL_obesity  BMI_LEVEL_super obesity  BLOODPRESSURE_LEVEL_normal  BLOODPRESSURE_LEVEL_pre-hypertension  BLOODPRESSURE_LEVEL_hyperttension\n",
       "0        0.647    0.865         -0.029          0.701    0.795  0.181                     0.589  1.446        1               1               0              0                  0                     0                   1                     0                  1                        0                           0                                     0                                  0\n",
       "1       -0.849   -1.206         -0.541          0.053   -1.007 -0.870                    -0.378 -0.189        0               0               0              0                  0                     0                   0                     1                  0                        0                           0                                     0                                  0\n",
       "2        1.246    2.016         -0.711         -1.134    0.795 -1.365                     0.747 -0.103        1               0               0              0                  0                     0                   1                     0                  0                        0                           0                                     0                                  0\n",
       "3       -0.849   -1.075         -0.541         -0.595   -0.613 -0.645                    -1.023 -1.050        0               0               0              1                  0                     0                   0                     1                  0                        0                           0                                     0                                  0\n",
       "4       -1.148    0.503         -2.759          0.701    0.429  1.607                     2.597 -0.017        1               0               0              0                  0                     1                   0                     0                  0                        1                           0                                     0                                  0"
      ]
     },
     "execution_count": 363,
     "metadata": {},
     "output_type": "execute_result"
    }
   ],
   "source": [
    "df.head()  # Genel Bakış"
   ]
  },
  {
   "cell_type": "code",
   "execution_count": 364,
   "id": "6f781fd1-9741-47d3-a6e4-0ea12820ff67",
   "metadata": {},
   "outputs": [
    {
     "data": {
      "text/plain": [
       "(768, 21)"
      ]
     },
     "execution_count": 364,
     "metadata": {},
     "output_type": "execute_result"
    }
   ],
   "source": [
    "df.shape"
   ]
  },
  {
   "cell_type": "markdown",
   "id": "99d2dfb2-8ca3-4fe2-a0e3-b174dd0b8bf8",
   "metadata": {},
   "source": [
    "#### Adım 5: Model oluşturunuz."
   ]
  },
  {
   "cell_type": "code",
   "execution_count": 365,
   "id": "c13f3eb1-ce64-4a10-8752-9224129d048e",
   "metadata": {},
   "outputs": [],
   "source": [
    "y = df[\"OUTCOME\"]\n",
    "X = df.drop([\"OUTCOME\"], axis=1)"
   ]
  },
  {
   "cell_type": "code",
   "execution_count": 366,
   "id": "6a44c6f2-0418-4a6b-a4b8-6728301d21eb",
   "metadata": {},
   "outputs": [],
   "source": [
    "X_train, X_test, y_train, y_test = train_test_split(X, y, test_size=0.20, random_state=17)"
   ]
  },
  {
   "cell_type": "code",
   "execution_count": 367,
   "id": "b27b685c-ae5f-4cb1-b4ba-6add7ba676a1",
   "metadata": {},
   "outputs": [],
   "source": [
    "from sklearn.ensemble import RandomForestClassifier"
   ]
  },
  {
   "cell_type": "code",
   "execution_count": 368,
   "id": "6d2b1f59-8f2e-4de2-835d-7d98732270b4",
   "metadata": {},
   "outputs": [],
   "source": [
    "rf_model = RandomForestClassifier(random_state=46).fit(X_train, y_train)\n",
    "y_pred = rf_model.predict(X_test)"
   ]
  },
  {
   "cell_type": "code",
   "execution_count": 369,
   "id": "9f37564c-42a6-4095-ae3b-582fa7119fad",
   "metadata": {},
   "outputs": [
    {
     "data": {
      "text/plain": [
       "0.7987012987012987"
      ]
     },
     "execution_count": 369,
     "metadata": {},
     "output_type": "execute_result"
    }
   ],
   "source": [
    "accuracy_score(y_pred, y_test)  # Modelin accuracy değeri"
   ]
  },
  {
   "cell_type": "markdown",
   "id": "e4eb59cd-1952-41b4-9203-3586bd038fa7",
   "metadata": {},
   "source": [
    "##### Modele göre veri setindeki değişkenlerin diyabet hastalığına sebep olma derecelerini grafiksel olarak gösterirsek"
   ]
  },
  {
   "cell_type": "code",
   "execution_count": 370,
   "id": "56b4c7fd-b869-4c3c-9bca-2cd6d72f3ffb",
   "metadata": {
    "tags": []
   },
   "outputs": [
    {
     "data": {
      "image/png": "[encoded data removed]",
      "text/plain": [
       "<Figure size 720x720 with 1 Axes>"
      ]
     },
     "metadata": {
      "needs_background": "light"
     },
     "output_type": "display_data"
    }
   ],
   "source": [
    "def plot_importance(model, features, num=len(X), save=False):\n",
    "    feature_imp = pd.DataFrame({'Value': model.feature_importances_, 'Feature': features.columns})\n",
    "    plt.figure(figsize=(10, 10))\n",
    "    sns.set(font_scale=1)\n",
    "    sns.barplot(x=\"Value\", y=\"Feature\", data=feature_imp.sort_values(by=\"Value\",\n",
    "                                                                      ascending=False)[0:num])\n",
    "    plt.title('Features')\n",
    "    plt.tight_layout()\n",
    "    plt.show()\n",
    "    if save:\n",
    "        plt.savefig('importances.png')\n",
    "\n",
    "plot_importance(rf_model, X_train)"
   ]
  }
 ],
 "metadata": {
  "kernelspec": {
   "display_name": "Python 3",
   "language": "python",
   "name": "python3"
  },
  "language_info": {
   "codemirror_mode": {
    "name": "ipython",
    "version": 3
   },
   "file_extension": ".py",
   "mimetype": "text/x-python",
   "name": "python",
   "nbconvert_exporter": "python",
   "pygments_lexer": "ipython3",
   "version": "3.8.8"
  }
 },
 "nbformat": 4,
 "nbformat_minor": 5
}
